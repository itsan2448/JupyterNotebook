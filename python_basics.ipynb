{
 "cells": [
  {
   "cell_type": "code",
   "execution_count": 1,
   "id": "df40fdb3-5f9d-4392-9ba4-0969aec18633",
   "metadata": {},
   "outputs": [
    {
     "name": "stdout",
     "output_type": "stream",
     "text": [
      "Welcome to python\n"
     ]
    }
   ],
   "source": [
    "#program to print welcome to python\n",
    "print('Welcome to python')"
   ]
  },
  {
   "cell_type": "code",
   "execution_count": 3,
   "id": "9ea2c68c-c8bb-4ab9-96cb-f482d632aa17",
   "metadata": {},
   "outputs": [
    {
     "name": "stdout",
     "output_type": "stream",
     "text": [
      "<class 'int'>\n",
      "<class 'float'>\n",
      "<class 'str'>\n"
     ]
    }
   ],
   "source": [
    "a=10\n",
    "b=3.4\n",
    "c='A'\n",
    "print(type(a))\n",
    "print(type(b))\n",
    "print(type(c))"
   ]
  },
  {
   "cell_type": "code",
   "execution_count": 5,
   "id": "1bbdc544-28b4-4964-ae8b-5b043f120d05",
   "metadata": {},
   "outputs": [
    {
     "name": "stdin",
     "output_type": "stream",
     "text": [
      "First No 56\n",
      "Second No 78\n"
     ]
    },
    {
     "name": "stdout",
     "output_type": "stream",
     "text": [
      "134\n"
     ]
    }
   ],
   "source": [
    "#add two nos\n",
    "a=int(input(\"First No\"))\n",
    "b=int(input(\"Second No\"))\n",
    "c=a+b\n",
    "print(c)"
   ]
  },
  {
   "cell_type": "code",
   "execution_count": 22,
   "id": "4bba3916-56d8-4286-bf72-0c812b915b7d",
   "metadata": {},
   "outputs": [
    {
     "name": "stdin",
     "output_type": "stream",
     "text": [
      "insert principal 100\n",
      "insert roi 10\n",
      "insert years 1\n"
     ]
    },
    {
     "name": "stdout",
     "output_type": "stream",
     "text": [
      "10.0\n",
      "110.00000000000001\n"
     ]
    }
   ],
   "source": [
    "p=float(input(\"insert principal\"))\n",
    "r=float(input(\"insert roi\"))\n",
    "t=float(input(\"insert years\"))\n",
    "si=p*r*t/100;\n",
    "ci=p*(1+r/100)**t\n",
    "print(si)\n",
    "print(ci)"
   ]
  },
  {
   "cell_type": "code",
   "execution_count": 34,
   "id": "1cc1a434-68ec-45f3-b5d6-4514f7b4a135",
   "metadata": {},
   "outputs": [
    {
     "name": "stdin",
     "output_type": "stream",
     "text": [
      "First No 10\n",
      "Second No 12\n"
     ]
    },
    {
     "name": "stdout",
     "output_type": "stream",
     "text": [
      "12\n",
      "10\n"
     ]
    }
   ],
   "source": [
    "a=int(input(\"First No\"))\n",
    "b=int(input(\"Second No\"))\n",
    "a,b=b,a\n",
    "print(a)\n",
    "print(b)"
   ]
  },
  {
   "cell_type": "code",
   "execution_count": 33,
   "id": "ab1982a3-de19-47fb-9cda-bcd878566687",
   "metadata": {},
   "outputs": [
    {
     "name": "stdin",
     "output_type": "stream",
     "text": [
      "First length 10\n",
      "Second length 10\n",
      "third length 10\n"
     ]
    },
    {
     "name": "stdout",
     "output_type": "stream",
     "text": [
      "43.30127018922193\n"
     ]
    }
   ],
   "source": [
    "import math\n",
    "\n",
    "a=float(input(\"First length\"))\n",
    "b=float(input(\"Second length\"))\n",
    "c=float(input(\"third length\"))\n",
    "h=a+b+c\n",
    "h=h/2\n",
    "\n",
    "A=math.sqrt(h*(h-a)*(h-b)*(h-c))\n",
    "print(A)"
   ]
  },
  {
   "cell_type": "code",
   "execution_count": 35,
   "id": "ba003822-fa59-4c24-8895-6941a1f4fd1e",
   "metadata": {},
   "outputs": [
    {
     "name": "stdin",
     "output_type": "stream",
     "text": [
      "Enter First No 5\n",
      "Enter Second No 6\n"
     ]
    },
    {
     "name": "stdout",
     "output_type": "stream",
     "text": [
      "Greater No= 6\n"
     ]
    }
   ],
   "source": [
    "#greatest among 2 nos\n",
    "a=int(input('Enter First No'))\n",
    "b=int(input('Enter Second No'))\n",
    "if a>b:\n",
    "    print('Greater No=',a)\n",
    "else:\n",
    "    print('Greater No=',b)"
   ]
  },
  {
   "cell_type": "code",
   "execution_count": 37,
   "id": "bae55abe-ee67-4940-8cca-70d8f1578afa",
   "metadata": {},
   "outputs": [
    {
     "name": "stdin",
     "output_type": "stream",
     "text": [
      "Enter First No 6\n"
     ]
    },
    {
     "name": "stdout",
     "output_type": "stream",
     "text": [
      "6  even no.\n"
     ]
    }
   ],
   "source": [
    "a=int(input('Enter First No'))\n",
    "if a%2==0:\n",
    "    print(a,' even no.')\n",
    "else:\n",
    "    print(a,' odd no.')"
   ]
  },
  {
   "cell_type": "code",
   "execution_count": 45,
   "id": "a203f4ae-fa34-484b-bcee-f8d21902aec6",
   "metadata": {},
   "outputs": [
    {
     "name": "stdin",
     "output_type": "stream",
     "text": [
      "Enter yr 1993\n"
     ]
    },
    {
     "name": "stdout",
     "output_type": "stream",
     "text": [
      "not leap year\n"
     ]
    }
   ],
   "source": [
    "a=int(input('Enter yr'))\n",
    "ifa%4==0 and a%100!=0 or a%400==0 :\n",
    "    print(\"leap year\")\n",
    "else : \n",
    "    print('not leap year')"
   ]
  },
  {
   "cell_type": "code",
   "execution_count": 48,
   "id": "0ebcf6ce-d3a9-42ad-b663-4c6e0105a08c",
   "metadata": {},
   "outputs": [
    {
     "name": "stdin",
     "output_type": "stream",
     "text": [
      "Enter no. 48\n"
     ]
    },
    {
     "name": "stdout",
     "output_type": "stream",
     "text": [
      "not buzz no.\n"
     ]
    }
   ],
   "source": [
    "a=int(input('Enter no.'))\n",
    "if(a%10==7 or a%7==0):\n",
    "    print(\"buzz no\")\n",
    "else:\n",
    "    print('not buzz no.')"
   ]
  },
  {
   "cell_type": "code",
   "execution_count": 59,
   "id": "52ea3905-f1f6-4be8-9b70-b45c99b56f65",
   "metadata": {},
   "outputs": [
    {
     "name": "stdin",
     "output_type": "stream",
     "text": [
      "Enter no. :  4\n"
     ]
    },
    {
     "name": "stdout",
     "output_type": "stream",
     "text": [
      "perfect square\n"
     ]
    }
   ],
   "source": [
    "a=int(input('Enter no. : '))\n",
    "import math\n",
    "b=math.sqrt(a)\n",
    "if(b==int(b)):\n",
    "    print(\"perfect square\")\n",
    "else:\n",
    "    print(\"no\")"
   ]
  },
  {
   "cell_type": "code",
   "execution_count": 62,
   "id": "a7bb0c35-80d7-4521-9ae6-51528eb39097",
   "metadata": {},
   "outputs": [
    {
     "name": "stdout",
     "output_type": "stream",
     "text": [
      "1 2 3 4 5 6 7 8 9 10 "
     ]
    }
   ],
   "source": [
    "#for loop\n",
    "for i in range(1,11,1):\n",
    "    print(i,end=' ')"
   ]
  },
  {
   "cell_type": "code",
   "execution_count": 63,
   "id": "d1afd86b-3e1c-40f4-bb60-ef62c994a1e1",
   "metadata": {},
   "outputs": [
    {
     "name": "stdout",
     "output_type": "stream",
     "text": [
      "10 9 8 7 6 5 4 3 2 1 "
     ]
    }
   ],
   "source": [
    "for i in range (10,0,-1):\n",
    "    print(i,end=' ')"
   ]
  },
  {
   "cell_type": "code",
   "execution_count": 69,
   "id": "e8eb3363-52b8-495a-9f32-354e7ac8b336",
   "metadata": {},
   "outputs": [
    {
     "name": "stdin",
     "output_type": "stream",
     "text": [
      "Enter no. :  10\n"
     ]
    },
    {
     "name": "stdout",
     "output_type": "stream",
     "text": [
      "1 3 6 10 15 21 28 36 45 55 "
     ]
    }
   ],
   "source": [
    "a=int(input('Enter no. : '))\n",
    "s=0\n",
    "for i in range (1,a+1,1):\n",
    "    s=s+i\n",
    "    print(s,end=' ')\n",
    "   "
   ]
  },
  {
   "cell_type": "code",
   "execution_count": 80,
   "id": "661663fa-c704-4079-91cb-86a20509dab1",
   "metadata": {},
   "outputs": [
    {
     "name": "stdin",
     "output_type": "stream",
     "text": [
      "Enter no. :  8\n"
     ]
    },
    {
     "name": "stdout",
     "output_type": "stream",
     "text": [
      "composite\n"
     ]
    }
   ],
   "source": [
    "import math\n",
    "a=int(input('Enter no. : '))\n",
    "b=True\n",
    "n=math.sqrt(a)\n",
    "n=int(n)+1\n",
    "for i in range (2,n,1):\n",
    "    if a%i==0 :\n",
    "        b=False\n",
    "if a==2 or b==True:\n",
    "    print(\"prime\")\n",
    "else :\n",
    "    print(\"composite\")"
   ]
  },
  {
   "cell_type": "code",
   "execution_count": 81,
   "id": "22d3c529-ef9b-46c4-9b23-e6dd3a2b26d0",
   "metadata": {},
   "outputs": [
    {
     "name": "stdout",
     "output_type": "stream",
     "text": [
      "1 \n",
      "1 2 \n",
      "1 2 3 \n",
      "1 2 3 4 \n",
      "1 2 3 4 5 \n"
     ]
    }
   ],
   "source": [
    "for i in range(1,6):\n",
    "    for j in range(1,i+1):\n",
    "        print(j,end=' ')\n",
    "    print()"
   ]
  },
  {
   "cell_type": "code",
   "execution_count": 82,
   "id": "150e481d-89af-441d-9651-68cc61ed3ef2",
   "metadata": {},
   "outputs": [
    {
     "name": "stdout",
     "output_type": "stream",
     "text": [
      "1 \n",
      "2 2 \n",
      "3 3 3 \n",
      "4 4 4 4 \n",
      "5 5 5 5 5 \n"
     ]
    }
   ],
   "source": [
    "for i in range(1,6):\n",
    "    for j in range (1,i+1):\n",
    "        print(i,end=' ')\n",
    "    print()"
   ]
  },
  {
   "cell_type": "code",
   "execution_count": 86,
   "id": "b5ab3a4a-c012-4aa9-8ddd-f667b75a53ca",
   "metadata": {},
   "outputs": [
    {
     "name": "stdout",
     "output_type": "stream",
     "text": [
      "1 \n",
      "2 3 \n",
      "4 5 6 \n",
      "7 8 9 10 \n",
      "11 12 13 14 15 \n"
     ]
    }
   ],
   "source": [
    "s=1\n",
    "for i in range(1,6):\n",
    "    for j in range (1,i+1):\n",
    "        print(s,end=' ')\n",
    "        s=s+1\n",
    "    print()"
   ]
  },
  {
   "cell_type": "code",
   "execution_count": 92,
   "id": "154f683b-dc55-4c40-be7a-c13005808447",
   "metadata": {},
   "outputs": [
    {
     "name": "stdout",
     "output_type": "stream",
     "text": [
      "1 \n",
      "2 1 \n",
      "3 2 1 \n",
      "4 3 2 1 \n",
      "5 4 3 2 1 \n"
     ]
    }
   ],
   "source": [
    "for i in range (1,6):\n",
    "    x=6\n",
    "    for j in range (i,0,-1):\n",
    "        print(j,end=' ')\n",
    "    print()"
   ]
  },
  {
   "cell_type": "code",
   "execution_count": 90,
   "id": "6d7e7fca-c6bf-44c1-85df-44ee0a979bc1",
   "metadata": {},
   "outputs": [
    {
     "name": "stdout",
     "output_type": "stream",
     "text": [
      "5 4 3 2 1 \n",
      "4 3 2 1 \n",
      "3 2 1 \n",
      "2 1 \n",
      "1 \n"
     ]
    }
   ],
   "source": [
    "for i in range (1,6):\n",
    "    x=6\n",
    "    for j in range (x-i,0,-1):\n",
    "        print(j,end=' ')\n",
    "    print()"
   ]
  },
  {
   "cell_type": "code",
   "execution_count": 97,
   "id": "ce4d3655-4cc5-4c1a-af4b-ecfc4016d517",
   "metadata": {},
   "outputs": [
    {
     "name": "stdout",
     "output_type": "stream",
     "text": [
      "        1 \n",
      "      1 2 \n",
      "    1 2 3 \n",
      "  1 2 3 4 \n",
      "1 2 3 4 5 \n"
     ]
    }
   ],
   "source": [
    "for i in range (1,6):\n",
    "    x=5\n",
    "    for j in range (x-i,0,-1):\n",
    "        print(' ',end=' ')\n",
    "    for j in range (1,i+1):\n",
    "        print(j,end=' ')\n",
    "    print()"
   ]
  },
  {
   "cell_type": "code",
   "execution_count": 100,
   "id": "ac9a98c2-4611-4d7a-9608-7cce50f421fc",
   "metadata": {},
   "outputs": [
    {
     "name": "stdout",
     "output_type": "stream",
     "text": [
      "1 2 3 4 5 \n",
      "  1 2 3 4 \n",
      "    1 2 3 \n",
      "      1 2 \n",
      "        1 \n"
     ]
    }
   ],
   "source": [
    "for i in range (5,0,-1):\n",
    "    x=5\n",
    "    for j in range (0,x-i,1):\n",
    "        print(' ',end=' ')\n",
    "    for j in range (1,i+1):\n",
    "        print(j,end=' ')\n",
    "    print()"
   ]
  },
  {
   "cell_type": "code",
   "execution_count": 112,
   "id": "ff1d680d-ff52-48a6-aa21-ca98d3cc6102",
   "metadata": {},
   "outputs": [
    {
     "name": "stdout",
     "output_type": "stream",
     "text": [
      "        1 \n",
      "      1 2 1 \n",
      "    1 2 3 2 1 \n",
      "  1 2 3 4 3 2 1 \n",
      "1 2 3 4 5 4 3 2 1 \n",
      "  1 2 3 4 3 2 1 \n",
      "    1 2 3 2 1 \n",
      "      1 2 1 \n",
      "        1 \n"
     ]
    }
   ],
   "source": [
    "for i in range (0,4):\n",
    "    x=5\n",
    "    for j in range (1,x-i,1):\n",
    "        print(' ',end=' ')\n",
    "    for j in range (1,i+1):\n",
    "        print(j,end=' ')\n",
    "    for j in range (i+1,0,-1):\n",
    "        print(j,end=' ')\n",
    "    print()\n",
    "for i in range (5,0,-1):\n",
    "    x=5\n",
    "    for j in range (0,x-i,1):\n",
    "        print(' ',end=' ')\n",
    "    for j in range (1,i):\n",
    "        print(j,end=' ')\n",
    "    for j in range (i,0,-1):\n",
    "        print(j,end=' ')\n",
    "    print()"
   ]
  },
  {
   "cell_type": "code",
   "execution_count": 116,
   "id": "47fd3dcc-09a8-43f2-9305-080bafb1e1d5",
   "metadata": {},
   "outputs": [
    {
     "name": "stdout",
     "output_type": "stream",
     "text": [
      "          5 \n",
      "        5 4 5 \n",
      "      5 4 3 4 5 \n",
      "    5 4 3 2 3 4 5 \n",
      "  5 4 3 2 1 2 3 4 5 \n",
      "    5 4 3 2 3 4 5 \n",
      "      5 4 3 4 5 \n",
      "        5 4 5 \n",
      "          5 \n"
     ]
    }
   ],
   "source": [
    "for i in range (0,4):\n",
    "    x=6\n",
    "    for j in range (1,x-i,1):\n",
    "        print(' ',end=' ')\n",
    "    for j in range (1,i+1):\n",
    "        print(x-j,end=' ')\n",
    "    for j in range (i+1,0,-1):\n",
    "        print(x-j,end=' ')\n",
    "    print()\n",
    "for i in range (5,0,-1):\n",
    "    x=6\n",
    "    for j in range (0,x-i,1):\n",
    "        print(' ',end=' ')\n",
    "    for j in range (1,i):\n",
    "        print(x-j,end=' ')\n",
    "    for j in range (i,0,-1):\n",
    "        print(x-j,end=' ')\n",
    "    print()"
   ]
  },
  {
   "cell_type": "code",
   "execution_count": 119,
   "id": "8106a502-0549-4a03-99e4-0a14074c422c",
   "metadata": {},
   "outputs": [
    {
     "name": "stdout",
     "output_type": "stream",
     "text": [
      "1 \n",
      "2 1 \n",
      "3 2 1 \n",
      "4 3 2 1 \n",
      "5 4 3 2 1 \n"
     ]
    }
   ],
   "source": [
    "for i in range (0,5):    \n",
    "    for j in range (i+1,0,-1):\n",
    "        print(j,end=' ')\n",
    "    print()"
   ]
  },
  {
   "cell_type": "code",
   "execution_count": 128,
   "id": "7968b866-95b5-4c4b-95d8-eac85877bcc8",
   "metadata": {},
   "outputs": [
    {
     "name": "stdout",
     "output_type": "stream",
     "text": [
      "5 \n",
      "4 5 \n",
      "3 4 5 \n",
      "2 3 4 5 \n",
      "1 2 3 4 5 \n"
     ]
    }
   ],
   "source": [
    "for i in range (1,6):\n",
    "    x=6\n",
    "    for j in range (x-i,x):\n",
    "        print(j, end=' ')\n",
    "    print()\n"
   ]
  },
  {
   "cell_type": "code",
   "execution_count": 131,
   "id": "e79cf40a-0079-4479-b64f-59e9dc7d187e",
   "metadata": {},
   "outputs": [
    {
     "name": "stdout",
     "output_type": "stream",
     "text": [
      "1 2 3 4 5 \n",
      "2 3 4 5 \n",
      "3 4 5 \n",
      "4 5 \n",
      "5 \n"
     ]
    }
   ],
   "source": [
    "for i in range (1,6):\n",
    "    x=6\n",
    "    for j in range (i,x):\n",
    "        print(j, end=' ')\n",
    "    print()"
   ]
  },
  {
   "cell_type": "code",
   "execution_count": 142,
   "id": "c1426b09-0801-4312-b79a-dfd583a519a5",
   "metadata": {},
   "outputs": [
    {
     "name": "stdout",
     "output_type": "stream",
     "text": [
      "5 4 3 2 1 \n",
      "  5 4 3 2 \n",
      "    5 4 3 \n",
      "      5 4 \n",
      "        5 \n"
     ]
    }
   ],
   "source": [
    "for i in range (5,0,-1):\n",
    "    x=5\n",
    "    for j in range (i,x,1):\n",
    "        print(' ', end=' ')\n",
    "    for j in range (x,x-i,-1):\n",
    "        print(j, end=' ')\n",
    "    print()"
   ]
  },
  {
   "cell_type": "code",
   "execution_count": 143,
   "id": "7fd56c74-1ebe-4666-ab8e-f7ad14e1d427",
   "metadata": {},
   "outputs": [
    {
     "name": "stdout",
     "output_type": "stream",
     "text": [
      "1 2 3 4 5 6 7 8 9 10 "
     ]
    }
   ],
   "source": [
    "#while loop\n",
    "i=1\n",
    "while i<=10:\n",
    "    print(i,end=' ')\n",
    "    i+=1\n"
   ]
  },
  {
   "cell_type": "code",
   "execution_count": 149,
   "id": "8b2b9cbf-de20-4a42-932f-1252d8c658a5",
   "metadata": {},
   "outputs": [
    {
     "name": "stdin",
     "output_type": "stream",
     "text": [
      "Enter no. :  256\n"
     ]
    },
    {
     "name": "stdout",
     "output_type": "stream",
     "text": [
      "no\n"
     ]
    }
   ],
   "source": [
    "a=int(input('Enter no. : '))\n",
    "r=0\n",
    "b=a\n",
    "while b:\n",
    "    r=r*10 + b%10;\n",
    "    b=b//10;\n",
    "if r==a:\n",
    "    print(\"pallindrome\")\n",
    "else :\n",
    "    print(\"no\")"
   ]
  },
  {
   "cell_type": "code",
   "execution_count": 153,
   "id": "4b98bbda-626d-48a4-8534-0da57ded99ef",
   "metadata": {},
   "outputs": [
    {
     "name": "stdin",
     "output_type": "stream",
     "text": [
      "Enter no. :  371\n"
     ]
    },
    {
     "name": "stdout",
     "output_type": "stream",
     "text": [
      "armstrong\n"
     ]
    }
   ],
   "source": [
    "a=int(input('Enter no. : '))\n",
    "s=0\n",
    "b=a\n",
    "while b:\n",
    "    s = s+ (b%10)**3\n",
    "    b=b//10\n",
    "if s==a:\n",
    "    print(\"armstrong\")\n",
    "else:\n",
    "    print(\"no\")"
   ]
  },
  {
   "cell_type": "code",
   "execution_count": 8,
   "id": "bff9909c-4ff3-4320-9281-092e4cf0daf1",
   "metadata": {},
   "outputs": [
    {
     "name": "stdin",
     "output_type": "stream",
     "text": [
      "insert a number 41\n"
     ]
    },
    {
     "name": "stdout",
     "output_type": "stream",
     "text": [
      "no\n"
     ]
    }
   ],
   "source": [
    "import math\n",
    "def primecheck(n):\n",
    "    if n==2 :\n",
    "        return False;\n",
    "    b=math.sqrt(n)\n",
    "    b=int(b)+1\n",
    "    for i in range (2,b,1):\n",
    "        if n%i==0:\n",
    "            return False\n",
    "    return True\n",
    "def twistedprime(n):\n",
    "    b=n\n",
    "    r=0\n",
    "    while(b):\n",
    "        r=r*10+b%10\n",
    "        b=b//10\n",
    "    return primecheck(n) and primecheck(r)\n",
    "\n",
    "a=int(input(\"insert a number\"))\n",
    "if twistedprime(a):\n",
    "    print(\"twisted prime\")\n",
    "else : \n",
    "    print('no')\n"
   ]
  },
  {
   "cell_type": "code",
   "execution_count": 1,
   "id": "6fb0683d-d5e2-4493-9d1b-05d34eab5d39",
   "metadata": {},
   "outputs": [
    {
     "name": "stdin",
     "output_type": "stream",
     "text": [
      "insert a number 162\n"
     ]
    },
    {
     "name": "stdout",
     "output_type": "stream",
     "text": [
      "126\n"
     ]
    }
   ],
   "source": [
    "def make_big(a):\n",
    "    ans=0\n",
    "    j=1\n",
    "    for i in range(9,-1,-1):\n",
    "        k=a\n",
    "        while k>0:\n",
    "            b=k%10\n",
    "            if i==b:\n",
    "                ans=b*j+ans\n",
    "                j=j*10\n",
    "            k=k//10\n",
    "    return ans\n",
    "a=int(input(\"insert a number\"))\n",
    "x=make_big(a)\n",
    "print(x)"
   ]
  },
  {
   "cell_type": "code",
   "execution_count": 7,
   "id": "fd4586a2-9b43-49e9-847e-2eafecc50ccc",
   "metadata": {},
   "outputs": [
    {
     "name": "stdin",
     "output_type": "stream",
     "text": [
      "insert a number 165\n"
     ]
    },
    {
     "name": "stdout",
     "output_type": "stream",
     "text": [
      "651\n"
     ]
    }
   ],
   "source": [
    "def make_big(a):\n",
    "    ans=0\n",
    "    # j=1\n",
    "    for i in range(9,-1,-1):\n",
    "        k=a\n",
    "        while k>0:\n",
    "            b=k%10\n",
    "            if i==b:\n",
    "                ans=ans*10+b\n",
    "                # j=j*10\n",
    "            k=k//10\n",
    "    return ans\n",
    "a=int(input(\"insert a number\"))\n",
    "x=make_big(a)\n",
    "print(x)"
   ]
  },
  {
   "cell_type": "code",
   "execution_count": 15,
   "id": "c055b9f2-b0bf-416b-95d7-749be877c524",
   "metadata": {},
   "outputs": [
    {
     "name": "stdin",
     "output_type": "stream",
     "text": [
      "insert a number 30\n"
     ]
    },
    {
     "name": "stdout",
     "output_type": "stream",
     "text": [
      "evil no.\n"
     ]
    }
   ],
   "source": [
    "#evil no.\n",
    "def evil(a):\n",
    "    \n",
    "    c=0\n",
    "    while a>0:\n",
    "        d=a%2\n",
    "        if d==1 :\n",
    "            c=c+1\n",
    "        a=a//2\n",
    "    return c\n",
    "\n",
    "a=int(input(\"insert a number\"))\n",
    "c=evil(a)\n",
    "if(c%2==0):\n",
    "    print(\"evil no.\")\n",
    "else:\n",
    "    print(\"no\")    "
   ]
  },
  {
   "cell_type": "code",
   "execution_count": 29,
   "id": "159c67cf-84bf-4b45-b580-ba6c97125eac",
   "metadata": {},
   "outputs": [
    {
     "name": "stdout",
     "output_type": "stream",
     "text": [
      "[1, 8, 3, 4, 6, 5]\n",
      "5 6 4 3 8 1 \n",
      "1 8 3 4 6 5 \n",
      "1 8 3 4 6 5 "
     ]
    }
   ],
   "source": [
    "L=[1,8,3,4,6,5]\n",
    "print(L)\n",
    "for i in range (-1, -len(L)-1, -1):\n",
    "    print(L[i], end=\" \")\n",
    "print()\n",
    "for i in L:\n",
    "    print(i,end=\" \")\n",
    "print()\n",
    "for i in range(len(L)):\n",
    "    print(L[i],end=\" \")"
   ]
  },
  {
   "cell_type": "code",
   "execution_count": 30,
   "id": "8906fb48-c951-4752-9ae8-eb3aec49cc64",
   "metadata": {},
   "outputs": [
    {
     "name": "stdin",
     "output_type": "stream",
     "text": [
      "Enter size :  5\n",
      "enter number: 6\n",
      "enter number: 5\n",
      "enter number: 4\n",
      "enter number: 5\n",
      "enter number: 9\n"
     ]
    },
    {
     "name": "stdout",
     "output_type": "stream",
     "text": [
      "[6, 5, 4, 5, 9]\n",
      "29\n",
      "9\n"
     ]
    }
   ],
   "source": [
    "L=[]\n",
    "n=int(input('Enter size : '))\n",
    "for i in range(0,n):\n",
    "    x=int(input(\"enter number:\"))\n",
    "    L.append(x)\n",
    "print(L)\n",
    "s=sum(L)\n",
    "\n",
    "print(s)\n",
    "m=max(L)\n",
    "print(m)\n"
   ]
  },
  {
   "cell_type": "code",
   "execution_count": 39,
   "id": "9af2417d-c742-41a1-ac5c-f89a422fc8c5",
   "metadata": {},
   "outputs": [
    {
     "name": "stdout",
     "output_type": "stream",
     "text": [
      "[69, 27, 26, 73, 74, 76, 24, 41, 30, 10, 74, 94, 52, 62, 71, 47, 34, 13, 11, 48, 32, 86, 62, 36, 39, 44, 63, 89, 65, 72, 20, 95, 80, 64, 70, 14, 75, 53, 29, 35, 43, 42, 90, 53, 45, 21, 34, 77, 21, 50, 85, 15, 70, 80, 90, 49, 44, 88, 28, 21, 41, 96, 45, 45, 89, 41, 82, 42, 41, 56, 16, 85, 64, 13, 76, 91, 79, 50, 58, 14, 90, 24, 46, 23, 64, 57, 43, 14, 46, 80, 74, 96, 27, 40, 52, 20, 29, 30, 61, 43]\n",
      "96\n",
      "5208\n"
     ]
    }
   ],
   "source": [
    "# random list\n",
    "import random\n",
    "L=[random.randint(10,100) for i in range(100)]\n",
    "print(L)\n",
    "# print(len(L))\n",
    "print(max(L))\n",
    "print(sum(L))"
   ]
  },
  {
   "cell_type": "code",
   "execution_count": 10,
   "id": "470db4fb-e444-4385-b816-59a96aca48cd",
   "metadata": {},
   "outputs": [
    {
     "name": "stdout",
     "output_type": "stream",
     "text": [
      "[2, 3, 5, 7, 11, 13, 17, 19, 23, 29, 31, 37, 41, 43, 47, 53, 59, 61, 67, 71, 73, 79, 83, 89, 97, 101, 103, 107, 109, 113, 127, 131, 137, 139, 149, 151, 157, 163, 167, 173, 179, 181, 191, 193, 197, 199, 211, 223, 227, 229, 233, 239, 241, 251, 257, 263, 269, 271, 277, 281, 283, 293, 307, 311, 313, 317, 331, 337, 347, 349, 353, 359, 367, 373, 379, 383, 389, 397, 401, 409, 419, 421, 431, 433, 439, 443, 449, 457, 461, 463, 467, 479, 487, 491, 499, 503, 509, 521, 523, 541]\n"
     ]
    }
   ],
   "source": [
    "#1st 100 primes\n",
    "import math\n",
    "def Prime(n):\n",
    "    if n<=1 :\n",
    "        return 0\n",
    "    if n==2 :\n",
    "        return 1;\n",
    "    b= math.sqrt(n)\n",
    "    b=int(b) +1\n",
    "    for i in range(2,b):\n",
    "        if n%i==0 :\n",
    "            return 0\n",
    "    return 1\n",
    "L=[]\n",
    "x=2\n",
    "no=0\n",
    "while no<100:\n",
    "    if Prime(x)==1 :\n",
    "        L.append(x)\n",
    "        no = no+1\n",
    "    x=x+1\n",
    "    no \n",
    "print(L)"
   ]
  },
  {
   "cell_type": "code",
   "execution_count": 24,
   "id": "75e83c25-ded4-4f22-bd89-d80e4ea218ae",
   "metadata": {},
   "outputs": [
    {
     "name": "stdout",
     "output_type": "stream",
     "text": [
      "L: [1, 8, 2, 6, 2, 4, 5, 0, 5, 0, 7, 4, 1, 5, 7, 4, 0, 8, 3, 3]\n",
      "[1, 8, 2, 6, 4, 5, 0, 7, 3]\n"
     ]
    }
   ],
   "source": [
    "import random\n",
    "L=[random.randint(0,9) for i in range(20)]\n",
    "print('L:',L)\n",
    "#remove duplicates\n",
    "X=[]\n",
    "# for i in range (0,10):\n",
    "#     M.append(0)\n",
    "for i in L:\n",
    "    if i not in X:\n",
    "        X.append(i)\n",
    "print (X)"
   ]
  },
  {
   "cell_type": "code",
   "execution_count": 28,
   "id": "da8a3738-d0ee-4080-80a0-cde9ce118041",
   "metadata": {},
   "outputs": [
    {
     "name": "stdout",
     "output_type": "stream",
     "text": [
      "L: [14, 17, 24, 20, 3, 14, 20, 9, 4, 14]\n",
      "M: [17, 7, 11, 11, 16, 19, 4, 12, 0, 11]\n",
      "X: [14, 24, 20, 3, 9, 7, 11, 16, 19, 12, 0]\n"
     ]
    }
   ],
   "source": [
    "import random\n",
    "L=[random.randint(0,25) for i in range(10)]\n",
    "M=[random.randint(0,25) for i in range(10)]\n",
    "X =[]\n",
    "for x in L:\n",
    "    if x not in X and x not in M:\n",
    "        X.append(x)\n",
    "for x in M:\n",
    "    if x not in X and x not in L:\n",
    "        X.append(x)\n",
    "print('L:',L)\n",
    "print('M:',M)\n",
    "print('X:',X)"
   ]
  },
  {
   "cell_type": "code",
   "execution_count": 33,
   "id": "458fe1ad-5fb9-4a9a-8364-34466505259d",
   "metadata": {},
   "outputs": [
    {
     "name": "stdout",
     "output_type": "stream",
     "text": [
      "[12, 48, 20, 5, 45, 15, 39, 18, 6, 45, 20, 35, 31, 22, 23, 20, 10, 2, 38, 5, 8, 48, 39, 42, 24]\n",
      "[48, 22, 6, 38, 12, 20, 10, 8, 24, 5, 45, 15, 39, 18, 45, 20, 35, 31, 23, 20, 2, 5, 48, 39, 42]\n"
     ]
    }
   ],
   "source": [
    "import random\n",
    "L=[random.randint(1,50) for i in range(25)]\n",
    "#put all odd numbers in the end\n",
    "print (L)\n",
    "for i in range (-1,-len(L),-1):\n",
    "    if L[i]%2==0:\n",
    "        x=L[i]\n",
    "        L.remove(L[i])\n",
    "        L.insert(0,x)\n",
    "print (L)"
   ]
  },
  {
   "cell_type": "code",
   "execution_count": 40,
   "id": "943eda1b-bfcf-4b94-8365-decf318dee99",
   "metadata": {},
   "outputs": [
    {
     "name": "stdout",
     "output_type": "stream",
     "text": [
      "[19, 4, 14, 11, 5, 14, 4, 19, 7, 7, 11, 5, 5, 11, 10]\n",
      "[4, 14, 14, 4, 7, 11, 10, 11, 7, 11, 19, 5, 19, 5, 5]\n"
     ]
    }
   ],
   "source": [
    "import random\n",
    "L=[random.randint(1,20) for i in range(15)]\n",
    "#put all odd numbers in the end\n",
    "print (L)\n",
    "for i in range (0,len(L)):\n",
    "    if L[i]%2!=0:\n",
    "        x=L[i]\n",
    "        L.remove(L[i])\n",
    "        L.extend([x])\n",
    "print (L)"
   ]
  },
  {
   "cell_type": "code",
   "execution_count": 3,
   "id": "9f402086-a525-4e4d-9f8c-b7ff4ba136f4",
   "metadata": {},
   "outputs": [
    {
     "name": "stdin",
     "output_type": "stream",
     "text": [
      "enter a number 12\n"
     ]
    },
    {
     "ename": "TypeError",
     "evalue": "'list' object is not callable",
     "output_type": "error",
     "traceback": [
      "\u001b[1;31m---------------------------------------------------------------------------\u001b[0m",
      "\u001b[1;31mTypeError\u001b[0m                                 Traceback (most recent call last)",
      "Cell \u001b[1;32mIn[3], line 23\u001b[0m\n\u001b[0;32m     21\u001b[0m n\u001b[38;5;241m=\u001b[39m\u001b[38;5;28mint\u001b[39m(\u001b[38;5;28minput\u001b[39m(\u001b[38;5;124m\"\u001b[39m\u001b[38;5;124menter a number\u001b[39m\u001b[38;5;124m\"\u001b[39m))\n\u001b[0;32m     22\u001b[0m siv()\n\u001b[1;32m---> 23\u001b[0m X\u001b[38;5;241m=\u001b[39mpf(n)\n\u001b[0;32m     24\u001b[0m \u001b[38;5;28mprint\u001b[39m(X)\n",
      "Cell \u001b[1;32mIn[3], line 18\u001b[0m, in \u001b[0;36mpf\u001b[1;34m(n)\u001b[0m\n\u001b[0;32m     16\u001b[0m \u001b[38;5;28;01mwhile\u001b[39;00m (n\u001b[38;5;241m!=\u001b[39m\u001b[38;5;241m1\u001b[39m):\n\u001b[0;32m     17\u001b[0m     ANS\u001b[38;5;241m.\u001b[39mappend(L[n])\n\u001b[1;32m---> 18\u001b[0m     n\u001b[38;5;241m=\u001b[39mn\u001b[38;5;241m/\u001b[39m\u001b[38;5;241m/\u001b[39mL(n)\n\u001b[0;32m     19\u001b[0m \u001b[38;5;28;01mreturn\u001b[39;00m ANS\n",
      "\u001b[1;31mTypeError\u001b[0m: 'list' object is not callable"
     ]
    }
   ],
   "source": [
    "# store all prime factors of a number in a list\n",
    "\n",
    "import math\n",
    "m = 1000\n",
    "L = [1]*(m+1)\n",
    "def siv():\n",
    "    L[0]=0\n",
    "    for i in range (2,m+1):\n",
    "        if L[i]==1 :\n",
    "            for j in range(i, m+1,i):\n",
    "                if L[j]==1:\n",
    "                    L[j]=i\n",
    "\n",
    "def pf(n):\n",
    "    ANS=list()\n",
    "    while (n!=1):\n",
    "        ANS.append(L[n])\n",
    "        n=n//L(n)\n",
    "    return ANS\n",
    "\n",
    "n=int(input(\"enter a number\"))\n",
    "siv()\n",
    "X=pf(n)\n",
    "print(X)\n"
   ]
  },
  {
   "cell_type": "code",
   "execution_count": 8,
   "id": "730d38ba-419c-4784-835e-84779d523e1b",
   "metadata": {},
   "outputs": [
    {
     "name": "stdin",
     "output_type": "stream",
     "text": [
      "enter a number 15\n"
     ]
    },
    {
     "ename": "TypeError",
     "evalue": "'list' object is not callable",
     "output_type": "error",
     "traceback": [
      "\u001b[1;31m---------------------------------------------------------------------------\u001b[0m",
      "\u001b[1;31mTypeError\u001b[0m                                 Traceback (most recent call last)",
      "Cell \u001b[1;32mIn[8], line 14\u001b[0m\n\u001b[0;32m     12\u001b[0m \u001b[38;5;28;01mwhile\u001b[39;00m (a\u001b[38;5;241m!=\u001b[39m\u001b[38;5;241m1\u001b[39m):\n\u001b[0;32m     13\u001b[0m     ANS\u001b[38;5;241m.\u001b[39mappend(L[a])\n\u001b[1;32m---> 14\u001b[0m     a\u001b[38;5;241m=\u001b[39ma\u001b[38;5;241m/\u001b[39m\u001b[38;5;241m/\u001b[39mL(n)\n\u001b[0;32m     15\u001b[0m \u001b[38;5;28mprint\u001b[39m(ANS)\n",
      "\u001b[1;31mTypeError\u001b[0m: 'list' object is not callable"
     ]
    }
   ],
   "source": [
    "n=int(input(\"enter a number\"))\n",
    "i=2\n",
    "L=[]\n",
    "while i<=n/"
   ]
  },
  {
   "cell_type": "code",
   "execution_count": 4,
   "id": "1338322a-9467-4ff7-b8fb-163a439d71f6",
   "metadata": {},
   "outputs": [
    {
     "name": "stdin",
     "output_type": "stream",
     "text": [
      "enter a number: 26\n"
     ]
    },
    {
     "name": "stdout",
     "output_type": "stream",
     "text": [
      "[2, 13]\n"
     ]
    }
   ],
   "source": [
    "# store all prime factors of a number in a list\n",
    "\n",
    "import math\n",
    "def prime(n):\n",
    "    b=math.sqrt(n)\n",
    "    b=int(b)\n",
    "    if(n<=1):\n",
    "        return 0;\n",
    "    if(n==2):\n",
    "        return 1;\n",
    "    for i in range (2,b+1):\n",
    "        if n%i==0:\n",
    "            return 0;\n",
    "    return 1;\n",
    "    \n",
    "ANS=[]        \n",
    "n=int(input(\"enter a number:\"))\n",
    "\n",
    "for i in range (2,n):\n",
    "    if n%i==0 and prime(i):\n",
    "        ANS.append(i)\n",
    "print(ANS)    \n"
   ]
  },
  {
   "cell_type": "code",
   "execution_count": 1,
   "id": "d5e80ad9-9e10-4127-add9-fa6bbce3dcc0",
   "metadata": {},
   "outputs": [
    {
     "name": "stdout",
     "output_type": "stream",
     "text": [
      "0 1 2 3 4 5 6 7 \n",
      "8 9 10 11 12 13 14 15 \n",
      "16 17 18 19 20 21 22 23 \n",
      "24 25 26 27 28 29 30 31 \n",
      "32 33 34 35 36 37 38 39 \n",
      "40 41 42 43 44 45 46 47 \n",
      "48 49 50 51 52 53 54 55 \n"
     ]
    }
   ],
   "source": [
    "m=7\n",
    "n=8\n",
    "y=0\n",
    "L=[]\n",
    "for i in range (m):\n",
    "    x=[]\n",
    "    for j in range (n):\n",
    "        a=y\n",
    "        y=y+1\n",
    "        x.append(a)\n",
    "    L.append(x)\n",
    "for i in range (m):\n",
    "    for j in range (n):\n",
    "        print(L[i][j], end=\" \")\n",
    "    print()"
   ]
  },
  {
   "cell_type": "code",
   "execution_count": 3,
   "id": "59e9bd27-e61a-461d-afaa-ce250d1db83d",
   "metadata": {},
   "outputs": [
    {
     "name": "stdout",
     "output_type": "stream",
     "text": [
      "[8, 9, 3, 9, 6]\n",
      "[2, 3, 1, 6, 9]\n",
      "[4, 8, 9, 4, 1]\n",
      "[5, 3, 9, 4, 6]\n",
      "[8, 9, 3, 7, 2]\n"
     ]
    }
   ],
   "source": [
    "import random\n",
    "L = [[random.randint(1,9) for i in range (5)] for j in range(5)]\n",
    "for i in L:\n",
    "    print(i)"
   ]
  },
  {
   "cell_type": "code",
   "execution_count": 23,
   "id": "dd38ff48-4a25-4a93-9d95-c2b6054cc3df",
   "metadata": {},
   "outputs": [
    {
     "name": "stdout",
     "output_type": "stream",
     "text": [
      "L\n",
      "╒═══╤═══╤═══╤═══╤═══╕\n",
      "│ 7 │ 2 │ 8 │ 5 │ 7 │\n",
      "├───┼───┼───┼───┼───┤\n",
      "│ 8 │ 8 │ 8 │ 1 │ 4 │\n",
      "├───┼───┼───┼───┼───┤\n",
      "│ 8 │ 1 │ 7 │ 3 │ 3 │\n",
      "├───┼───┼───┼───┼───┤\n",
      "│ 6 │ 8 │ 2 │ 2 │ 5 │\n",
      "├───┼───┼───┼───┼───┤\n",
      "│ 8 │ 8 │ 9 │ 8 │ 2 │\n",
      "╘═══╧═══╧═══╧═══╧═══╛\n",
      "M\n",
      "╒═══╤═══╤═══╤═══╤═══╕\n",
      "│ 3 │ 8 │ 8 │ 6 │ 7 │\n",
      "├───┼───┼───┼───┼───┤\n",
      "│ 1 │ 2 │ 4 │ 2 │ 9 │\n",
      "├───┼───┼───┼───┼───┤\n",
      "│ 1 │ 1 │ 7 │ 9 │ 6 │\n",
      "├───┼───┼───┼───┼───┤\n",
      "│ 5 │ 1 │ 6 │ 6 │ 2 │\n",
      "├───┼───┼───┼───┼───┤\n",
      "│ 8 │ 9 │ 2 │ 8 │ 9 │\n",
      "╘═══╧═══╧═══╧═══╧═══╛\n",
      "SUM\n",
      "╒════╤════╤════╤════╤════╕\n",
      "│ 10 │ 10 │ 16 │ 11 │ 14 │\n",
      "├────┼────┼────┼────┼────┤\n",
      "│  9 │ 10 │ 12 │  3 │ 13 │\n",
      "├────┼────┼────┼────┼────┤\n",
      "│  9 │  2 │ 14 │ 12 │  9 │\n",
      "├────┼────┼────┼────┼────┤\n",
      "│ 11 │  9 │  8 │  8 │  7 │\n",
      "├────┼────┼────┼────┼────┤\n",
      "│ 16 │ 17 │ 11 │ 16 │ 11 │\n",
      "╘════╧════╧════╧════╧════╛\n"
     ]
    }
   ],
   "source": [
    "import random \n",
    "from tabulate import tabulate\n",
    "L = [[ random.randint(1,9) for i in range (5)] for j in range  (5)]\n",
    "print('L')\n",
    "print(tabulate(L,tablefmt='fancy_grid'))\n",
    "M = [[ random.randint(1,9) for i in range (5)] for j in range  (5)]\n",
    "print('M')\n",
    "print(tabulate(M,tablefmt='fancy_grid'))\n",
    "S= [[0 for i in range (5)] for j in range (5)]\n",
    "# for i in S:\n",
    "#     print(i)\n",
    "for i in range (len(S)):\n",
    "    for j in range (len(S[0])):\n",
    "        S[i][j]=L[i][j]+M[i][j]\n",
    "print('SUM')\n",
    "print(tabulate(S,tablefmt='fancy_grid'))"
   ]
  },
  {
   "cell_type": "code",
   "execution_count": 18,
   "id": "84c89bc4-b4f3-4049-930f-8aebdbd4fae7",
   "metadata": {},
   "outputs": [
    {
     "name": "stdout",
     "output_type": "stream",
     "text": [
      "L\n",
      "[5, 4, 4, 8, 1]\n",
      "[8, 9, 4, 6, 2]\n",
      "[4, 7, 1, 1, 7]\n",
      "[2, 5, 2, 7, 1]\n",
      "[2, 3, 8, 5, 9]\n",
      "M\n",
      "[1, 5, 5, 6, 4]\n",
      "[2, 4, 2, 6, 1]\n",
      "[7, 9, 4, 2, 8]\n",
      "[5, 8, 2, 3, 6]\n",
      "[4, 5, 5, 9, 6]\n",
      "SUM\n",
      "[6, 9, 9, 14, 5]\n",
      "[10, 13, 6, 12, 3]\n",
      "[11, 16, 5, 3, 15]\n",
      "[7, 13, 4, 10, 7]\n",
      "[6, 8, 13, 14, 15]\n"
     ]
    }
   ],
   "source": [
    "import random \n",
    "L = [[ random.randint(1,9) for i in range (5)] for j in range  (5)]\n",
    "print('L')\n",
    "for i in L:\n",
    "    print(i)\n",
    "M = [[ random.randint(1,9) for i in range (5)] for j in range  (5)]\n",
    "print('M')\n",
    "for i in M:\n",
    "    print(i)\n",
    "S = [[L[i][j]+M[i][j] for j in range (0,5)] for i in range (0,5)]\n",
    "print('SUM')\n",
    "for i in S:\n",
    "    print(i)"
   ]
  },
  {
   "cell_type": "code",
   "execution_count": 29,
   "id": "5b82e828-7f5d-479a-b7d9-9df96c63f282",
   "metadata": {},
   "outputs": [
    {
     "name": "stdout",
     "output_type": "stream",
     "text": [
      "L\n",
      "╒═══╤═══╤═══╕\n",
      "│ 5 │ 6 │ 5 │\n",
      "├───┼───┼───┤\n",
      "│ 4 │ 6 │ 2 │\n",
      "├───┼───┼───┤\n",
      "│ 3 │ 3 │ 3 │\n",
      "╘═══╧═══╧═══╛\n",
      "M\n",
      "╒═══╤═══╤═══╕\n",
      "│ 1 │ 4 │ 7 │\n",
      "├───┼───┼───┤\n",
      "│ 8 │ 7 │ 1 │\n",
      "├───┼───┼───┤\n",
      "│ 3 │ 6 │ 5 │\n",
      "╘═══╧═══╧═══╛\n",
      "product\n",
      "╒════╤════╤════╕\n",
      "│ 68 │ 68 │ 68 │\n",
      "├────┼────┼────┤\n",
      "│ 70 │ 70 │ 70 │\n",
      "├────┼────┼────┤\n",
      "│ 39 │ 39 │ 39 │\n",
      "╘════╧════╧════╛\n"
     ]
    }
   ],
   "source": [
    "import random \n",
    "from tabulate import tabulate\n",
    "L = [[ random.randint(1,9) for i in range (3)] for j in range  (3)]\n",
    "print('L')\n",
    "print(tabulate(L, tablefmt='fancy_grid'))\n",
    "M = [[ random.randint(1,9) for i in range (3)] for j in range  (3)]\n",
    "print('M')\n",
    "print(tabulate(M,tablefmt='fancy_grid'))\n",
    "S=[[ 0 for j in range (3)]for i in range (3)]\n",
    "for i in range (3):\n",
    "    for j in range (3):\n",
    "        for k in range (3):\n",
    "            S[i][j]= S[i][j]+L[i][k]*M[k][i]\n",
    "\n",
    "print('product')\n",
    "print(tabulate(S,tablefmt='fancy_grid'))"
   ]
  },
  {
   "cell_type": "code",
   "execution_count": 31,
   "id": "5cfe4898-9631-40f1-8f36-aa285249e891",
   "metadata": {},
   "outputs": [
    {
     "name": "stdout",
     "output_type": "stream",
     "text": [
      "L\n",
      "╒═══╤═══╤═══╤═══╤═══╕\n",
      "│ 6 │ 5 │ 2 │ 1 │ 4 │\n",
      "├───┼───┼───┼───┼───┤\n",
      "│ 7 │ 2 │ 4 │ 3 │ 5 │\n",
      "├───┼───┼───┼───┼───┤\n",
      "│ 2 │ 2 │ 4 │ 3 │ 2 │\n",
      "╘═══╧═══╧═══╧═══╧═══╛\n"
     ]
    }
   ],
   "source": [
    "import random \n",
    "from tabulate import tabulate\n",
    "L = [[ random.randint(1,9) for i in range (5)] for j in range  (3)]\n",
    "print('L')\n",
    "print(tabulate(L, tablefmt='fancy_grid'))\n",
    "S = [[0 for i in range (3)] for j in range(5)]\n",
    "\n",
    "print('S')\n",
    "print(tabulate(S, tablefmt='fancy_grid'))"
   ]
  },
  {
   "cell_type": "code",
   "execution_count": 36,
   "id": "2b5f0667-66a9-4e55-8792-ac9d2973eb2f",
   "metadata": {},
   "outputs": [
    {
     "name": "stdout",
     "output_type": "stream",
     "text": [
      "L\n",
      "╒═══╤═══╤═══╤═══╤═══╕\n",
      "│ 2 │ 2 │ 3 │ 9 │ 6 │\n",
      "├───┼───┼───┼───┼───┤\n",
      "│ 8 │ 8 │ 3 │ 7 │ 2 │\n",
      "├───┼───┼───┼───┼───┤\n",
      "│ 8 │ 1 │ 4 │ 3 │ 5 │\n",
      "├───┼───┼───┼───┼───┤\n",
      "│ 5 │ 9 │ 5 │ 3 │ 4 │\n",
      "├───┼───┼───┼───┼───┤\n",
      "│ 8 │ 8 │ 1 │ 3 │ 9 │\n",
      "╘═══╧═══╧═══╧═══╧═══╛\n",
      "after sorting:\n",
      "╒═══╤═══╤═══╤═══╤═══╕\n",
      "│ 2 │ 2 │ 3 │ 6 │ 9 │\n",
      "├───┼───┼───┼───┼───┤\n",
      "│ 8 │ 8 │ 7 │ 3 │ 2 │\n",
      "├───┼───┼───┼───┼───┤\n",
      "│ 1 │ 3 │ 4 │ 5 │ 8 │\n",
      "├───┼───┼───┼───┼───┤\n",
      "│ 9 │ 5 │ 5 │ 4 │ 3 │\n",
      "├───┼───┼───┼───┼───┤\n",
      "│ 1 │ 3 │ 8 │ 8 │ 9 │\n",
      "╘═══╧═══╧═══╧═══╧═══╛\n"
     ]
    }
   ],
   "source": [
    "import random \n",
    "from tabulate import tabulate\n",
    "L = [[ random.randint(1,9) for i in range (5)] for j in range  (5)]\n",
    "print('L')\n",
    "print(tabulate(L,tablefmt='fancy_grid'))\n",
    "for i in range(len(L)):\n",
    "    if i%2==0:\n",
    "        L[i].sort()\n",
    "    else:\n",
    "        L[i].sort(reverse = True)\n",
    "print('after sorting:')\n",
    "print(tabulate(L,tablefmt='fancy_grid'))"
   ]
  },
  {
   "cell_type": "code",
   "execution_count": 77,
   "id": "b9316444-0fc8-43c5-8b05-36b98387bfa3",
   "metadata": {},
   "outputs": [
    {
     "name": "stdout",
     "output_type": "stream",
     "text": [
      "no. of valid votes= 489\n",
      "no. of spoilt votes= 511\n",
      "candidate vote details:\n",
      "╒════╤═════╤═════╤════╤════╕\n",
      "│  1 │   2 │   3 │  4 │  5 │\n",
      "├────┼─────┼─────┼────┼────┤\n",
      "│ 96 │ 106 │ 100 │ 88 │ 99 │\n",
      "╘════╧═════╧═════╧════╧════╛\n",
      "winning candidate is  2  by votes = 106\n"
     ]
    }
   ],
   "source": [
    "import random\n",
    "from tabulate import tabulate\n",
    "sp =0\n",
    "cand = [[0 for i in range (5)] for j in range(2)]\n",
    "cand[0] = [i for i in range(1,6)]\n",
    "n=1000\n",
    "valid = 0\n",
    "vote=[random.randint(0,9) for i in range(n)]\n",
    "\n",
    "for i in vote:\n",
    "    if i<5:\n",
    "        valid = valid+1\n",
    "        cand[1][i] = cand[1][i]+1\n",
    "    else :\n",
    "        sp=sp+1        \n",
    "            \n",
    "print ('no. of valid votes=',valid)\n",
    "print ('no. of spoilt votes=',sp)\n",
    "\n",
    "print(\"candidate vote details:\")\n",
    "print(tabulate(cand,tablefmt='fancy_grid'))\n",
    "mx=0\n",
    "w=0\n",
    "for i in range(len(cand)):\n",
    "    if (mx < cand[1][i]):\n",
    "        mx= cand[1][i]\n",
    "        w = i+1\n",
    "print(\"winning candidate is \",w, \" by votes =\", mx)"
   ]
  },
  {
   "cell_type": "code",
   "execution_count": 96,
   "id": "06e76e91-36dd-47e0-8a4d-36585ec00fee",
   "metadata": {},
   "outputs": [
    {
     "name": "stdout",
     "output_type": "stream",
     "text": [
      "L:\n",
      "╒═══╤═══╤═══╤═══╤═══╕\n",
      "│ 3 │ 2 │ 2 │ 2 │ 4 │\n",
      "├───┼───┼───┼───┼───┤\n",
      "│ 3 │ 4 │ 3 │ 4 │ 3 │\n",
      "├───┼───┼───┼───┼───┤\n",
      "│ 2 │ 3 │ 4 │ 2 │ 3 │\n",
      "├───┼───┼───┼───┼───┤\n",
      "│ 2 │ 3 │ 1 │ 2 │ 1 │\n",
      "├───┼───┼───┼───┼───┤\n",
      "│ 4 │ 4 │ 4 │ 4 │ 2 │\n",
      "╘═══╧═══╧═══╧═══╧═══╛\n"
     ]
    },
    {
     "ename": "ValueError",
     "evalue": "list.remove(x): x not in list",
     "output_type": "error",
     "traceback": [
      "\u001b[1;31m---------------------------------------------------------------------------\u001b[0m",
      "\u001b[1;31mValueError\u001b[0m                                Traceback (most recent call last)",
      "Cell \u001b[1;32mIn[96], line 15\u001b[0m\n\u001b[0;32m     13\u001b[0m     \u001b[38;5;28;01mfor\u001b[39;00m j \u001b[38;5;129;01min\u001b[39;00m \u001b[38;5;28mrange\u001b[39m(\u001b[38;5;28mlen\u001b[39m(L[\u001b[38;5;241m0\u001b[39m])):\n\u001b[0;32m     14\u001b[0m         \u001b[38;5;28;01mif\u001b[39;00m L[i][j] \u001b[38;5;129;01mnot\u001b[39;00m \u001b[38;5;129;01min\u001b[39;00m com:\n\u001b[1;32m---> 15\u001b[0m             com\u001b[38;5;241m.\u001b[39mremove(L[i][j])\n\u001b[0;32m     17\u001b[0m \u001b[38;5;28mprint\u001b[39m(com)\n",
      "\u001b[1;31mValueError\u001b[0m: list.remove(x): x not in list"
     ]
    }
   ],
   "source": [
    "# elements common in all rows\n",
    "import random \n",
    "from tabulate import tabulate\n",
    "L = [[ random.randint(1,4) for i in range (5)] for j in range  (5)]\n",
    "print('L:')\n",
    "print(tabulate(L,tablefmt='fancy_grid'))\n",
    "com=[]\n",
    "for i in L[0]:\n",
    "    if i not in com:\n",
    "        com.append(i)\n",
    "        \n",
    "for i in range(1,len(L)):\n",
    "    for j in range(len(L[0])):\n",
    "        if L[i][j] not in com:\n",
    "            com.remove(L[i][j])\n",
    "            \n",
    "print(com)"
   ]
  },
  {
   "cell_type": "code",
   "execution_count": 1,
   "id": "1667a50b-d946-456b-ac92-f4812473e52f",
   "metadata": {},
   "outputs": [
    {
     "name": "stdout",
     "output_type": "stream",
     "text": [
      "L:\n",
      "╒═══╤═══╤═══╤═══╤═══╕\n",
      "│ 1 │ 3 │ 4 │ 3 │ 4 │\n",
      "├───┼───┼───┼───┼───┤\n",
      "│ 4 │ 3 │ 3 │ 3 │ 2 │\n",
      "├───┼───┼───┼───┼───┤\n",
      "│ 1 │ 3 │ 3 │ 3 │ 3 │\n",
      "├───┼───┼───┼───┼───┤\n",
      "│ 2 │ 4 │ 3 │ 3 │ 3 │\n",
      "├───┼───┼───┼───┼───┤\n",
      "│ 4 │ 3 │ 4 │ 1 │ 2 │\n",
      "╘═══╧═══╧═══╧═══╧═══╛\n",
      "[3]\n"
     ]
    }
   ],
   "source": [
    "# elements common in all rows\n",
    "import random \n",
    "def intersection(lst1, lst2):\n",
    "    return list(set(lst1) & set(lst2))\n",
    "from tabulate import tabulate\n",
    "L = [[ random.randint(1,4) for i in range (5)] for j in range  (5)]\n",
    "print('L:')\n",
    "print(tabulate(L,tablefmt='fancy_grid'))\n",
    "com=intersection(L[0],L[1])\n",
    "# print(com)\n",
    "for i in range (2,len(L)):\n",
    "    com=intersection(com, L[i])            \n",
    "print(com)"
   ]
  },
  {
   "cell_type": "code",
   "execution_count": 33,
   "id": "075cc29e-6616-4802-8273-0edfc10c7617",
   "metadata": {},
   "outputs": [
    {
     "name": "stdout",
     "output_type": "stream",
     "text": [
      "\n",
      "╒════╤════╤════╤════╤════╤════╤════╕\n",
      "│ 49 │ 48 │ 47 │ 46 │ 45 │ 44 │ 43 │\n",
      "├────┼────┼────┼────┼────┼────┼────┤\n",
      "│ 36 │ 37 │ 38 │ 39 │ 40 │ 41 │ 42 │\n",
      "├────┼────┼────┼────┼────┼────┼────┤\n",
      "│ 35 │ 34 │ 33 │ 32 │ 31 │ 30 │ 29 │\n",
      "├────┼────┼────┼────┼────┼────┼────┤\n",
      "│ 22 │ 23 │ 24 │ 25 │ 26 │ 27 │ 28 │\n",
      "├────┼────┼────┼────┼────┼────┼────┤\n",
      "│ 21 │ 20 │ 19 │ 18 │ 17 │ 16 │ 15 │\n",
      "├────┼────┼────┼────┼────┼────┼────┤\n",
      "│  8 │  9 │ 10 │ 11 │ 12 │ 13 │ 14 │\n",
      "├────┼────┼────┼────┼────┼────┼────┤\n",
      "│  7 │  6 │  5 │  4 │  3 │  2 │  1 │\n",
      "╘════╧════╧════╧════╧════╧════╧════╛\n"
     ]
    }
   ],
   "source": [
    "import math\n",
    "from tabulate import tabulate\n",
    "# def rsort(l1,l2):\n",
    "#     return l1>l2\n",
    "x=49\n",
    "n=math.sqrt(x)\n",
    "n=int(n)\n",
    "# n=5\n",
    "L = [[0 for i in range(n)] for j in range (n)]\n",
    "# for i in range (0,n):\n",
    "#     print(L[i])\n",
    "print()\n",
    "for i in range(0,n):    \n",
    "    for j in range(0,n):\n",
    "        if i%2==0:\n",
    "            L[i][j]=x            \n",
    "        else:\n",
    "            L[i][n-j-1]=x\n",
    "        x=x-1\n",
    "        \n",
    "\n",
    "\n",
    "print(tabulate(L,tablefmt='fancy_grid'))\n",
    "\n",
    "\n",
    "        "
   ]
  },
  {
   "cell_type": "code",
   "execution_count": 37,
   "id": "7cbe1c6f-1344-43e2-88b3-f342c1f1787b",
   "metadata": {},
   "outputs": [
    {
     "name": "stdout",
     "output_type": "stream",
     "text": [
      "L:\n",
      "╒═══╤════╤════╤════╤════╕\n",
      "│ 3 │  5 │ 10 │  5 │ 10 │\n",
      "├───┼────┼────┼────┼────┤\n",
      "│ 5 │  3 │  9 │  1 │  9 │\n",
      "├───┼────┼────┼────┼────┤\n",
      "│ 7 │  2 │  7 │  9 │  1 │\n",
      "├───┼────┼────┼────┼────┤\n",
      "│ 3 │ 10 │  8 │ 10 │ 10 │\n",
      "├───┼────┼────┼────┼────┤\n",
      "│ 8 │  1 │  5 │ 10 │  2 │\n",
      "╘═══╧════╧════╧════╧════╛\n",
      "╒════╤════╤════╤═══╤═══╕\n",
      "│ 10 │ 10 │  5 │ 5 │ 3 │\n",
      "├────┼────┼────┼───┼───┤\n",
      "│  9 │  9 │  5 │ 3 │ 1 │\n",
      "├────┼────┼────┼───┼───┤\n",
      "│  9 │  7 │  7 │ 2 │ 1 │\n",
      "├────┼────┼────┼───┼───┤\n",
      "│ 10 │ 10 │ 10 │ 8 │ 3 │\n",
      "├────┼────┼────┼───┼───┤\n",
      "│ 10 │  8 │  5 │ 2 │ 1 │\n",
      "╘════╧════╧════╧═══╧═══╛\n"
     ]
    }
   ],
   "source": [
    "import random \n",
    "def intersection(lst1, lst2):\n",
    "    return list(set(lst1) & set(lst2))\n",
    "from tabulate import tabulate\n",
    "L = [[ random.randint(1,10) for i in range (5)] for j in range  (5)]\n",
    "print('L:')\n",
    "print(tabulate(L,tablefmt='fancy_grid'))\n",
    "for i in L:\n",
    "    i.sort(reverse=True)\n",
    "print(tabulate(L,tablefmt='fancy_grid'))"
   ]
  },
  {
   "cell_type": "code",
   "execution_count": 40,
   "id": "3b1e4bc5-79c6-41e0-b3a8-38e35a681bc8",
   "metadata": {},
   "outputs": [
    {
     "name": "stdout",
     "output_type": "stream",
     "text": [
      "L:\n",
      "╒═══╤════╤════╤═══╤════╕\n",
      "│ 2 │  5 │  3 │ 8 │ 10 │\n",
      "├───┼────┼────┼───┼────┤\n",
      "│ 3 │  4 │  6 │ 5 │ 10 │\n",
      "├───┼────┼────┼───┼────┤\n",
      "│ 8 │  5 │ 10 │ 2 │  4 │\n",
      "├───┼────┼────┼───┼────┤\n",
      "│ 9 │  1 │ 10 │ 5 │  2 │\n",
      "├───┼────┼────┼───┼────┤\n",
      "│ 8 │ 10 │  9 │ 4 │  5 │\n",
      "╘═══╧════╧════╧═══╧════╛\n",
      "\n"
     ]
    }
   ],
   "source": [
    "# remove duplicates\n",
    "import random \n",
    "def intersection(lst1, lst2):\n",
    "    return list(set(lst1) & set(lst2))\n",
    "from tabulate import tabulate\n",
    "L = [[ random.randint(1,10) for i in range (5)] for j in range  (5)]\n",
    "print('L:')\n",
    "print(tabulate(L,tablefmt='fancy_grid'))\n",
    "for i in L:\n",
    "    c=[]\n",
    "    for j in i:\n",
    "        if j not in c:\n",
    "            c.append(j)\n",
    "    i.clear()\n",
    "    i=c     \n",
    "print(tabulate(L,tablefmt='fancy_grid'))        "
   ]
  },
  {
   "cell_type": "code",
   "execution_count": 72,
   "id": "abfebc54-eece-46fc-b6de-2e4e6d75ca9b",
   "metadata": {},
   "outputs": [
    {
     "name": "stdout",
     "output_type": "stream",
     "text": [
      "╒═══╤═══╤═══╕\n",
      "│ 3 │ 2 │ 1 │\n",
      "├───┼───┼───┤\n",
      "│ 6 │ 4 │ 5 │\n",
      "├───┼───┼───┤\n",
      "│ 8 │ 9 │ 7 │\n",
      "╘═══╧═══╧═══╛\n",
      "╒═══╤═══╤═══╕\n",
      "│ 0 │ 0 │ 0 │\n",
      "├───┼───┼───┤\n",
      "│ 0 │ 4 │ 0 │\n",
      "├───┼───┼───┤\n",
      "│ 0 │ 0 │ 0 │\n",
      "╘═══╧═══╧═══╛\n"
     ]
    }
   ],
   "source": [
    "import random\n",
    "import numpy as np\n",
    "from tabulate import tabulate\n",
    "n=3\n",
    "L=[[0 for i in range(n)] for j in range(n)]\n",
    "M=[[0 for i in range(n)] for j in range(n)]\n",
    "x=1\n",
    "for i in range(n):\n",
    "    # random.shuffle(L)\n",
    "    for j in range(n):\n",
    "        L[i][j]=x\n",
    "        x=x+1\n",
    "for i in L:\n",
    "    for j in i:        \n",
    "        random.shuffle(i)\n",
    "    # random.shuffle(L)\n",
    "print(tabulate(L,tablefmt='fancy_grid'))\n",
    "M[n//2][n//2]=L[n//2][n//2]\n",
    "# for i in range (1, len(L),2):\n",
    "#     for j in range(1,len(L),2):\n",
    "#         M[i-1][j-1]=L[i][j]\n",
    "\n",
    "print(tabulate(M,tablefmt='fancy_grid'))\n",
    "        "
   ]
  },
  {
   "cell_type": "code",
   "execution_count": 9,
   "id": "558252ee-b01a-47c3-b745-5974080ad627",
   "metadata": {},
   "outputs": [
    {
     "name": "stdin",
     "output_type": "stream",
     "text": [
      "insert a string hello\n"
     ]
    },
    {
     "name": "stdout",
     "output_type": "stream",
     "text": [
      "lower case \n",
      "olleh\n"
     ]
    }
   ],
   "source": [
    "a=input(\"insert a string\")\n",
    "b=a.isupper()\n",
    "c=a.islower()\n",
    "if b==True:\n",
    "    print(\"upper case \")\n",
    "elif c==True:\n",
    "    print(\"lower case \")\n",
    "else:\n",
    "    print(\"mix\")\n",
    "d=a[::-1]\n",
    "print(d)"
   ]
  },
  {
   "cell_type": "code",
   "execution_count": 12,
   "id": "87b3fc2d-83af-4ada-831a-f10ee44278e3",
   "metadata": {},
   "outputs": [
    {
     "name": "stdin",
     "output_type": "stream",
     "text": [
      "insert a string hellooooooo\n"
     ]
    },
    {
     "name": "stdout",
     "output_type": "stream",
     "text": [
      "no\n"
     ]
    }
   ],
   "source": [
    "# pallindrome\n",
    "a=input(\"insert a string\")\n",
    "b=a[::-1]\n",
    "if b==a:\n",
    "    print(\"pallindrome\")\n",
    "else:\n",
    "    print(\"no\")"
   ]
  },
  {
   "cell_type": "code",
   "execution_count": 13,
   "id": "bd63a49e-85ce-40ed-85c4-fdfba0abc953",
   "metadata": {},
   "outputs": [
    {
     "name": "stdin",
     "output_type": "stream",
     "text": [
      "insert a sentence monday morning blues\n"
     ]
    },
    {
     "name": "stdout",
     "output_type": "stream",
     "text": [
      "blues morning monday\n"
     ]
    }
   ],
   "source": [
    "# reverse words in python\n",
    "a=input(\"insert a sentence\")\n",
    "b=a.split()[::-1]\n",
    "c=[]\n",
    "for i in b:\n",
    "    c.append(i)\n",
    "print(\" \".join(c))"
   ]
  },
  {
   "cell_type": "code",
   "execution_count": 22,
   "id": "49a5c865-a6e3-4d1b-85c0-57fa1d1a7c53",
   "metadata": {},
   "outputs": [
    {
     "name": "stdin",
     "output_type": "stream",
     "text": [
      "insert a string: 123123hello`1\n"
     ]
    },
    {
     "name": "stdout",
     "output_type": "stream",
     "text": [
      "hello`1\n"
     ]
    }
   ],
   "source": [
    "\n",
    "b=input(\"insert a string:\")\n",
    "b=b.replace(\"123\",'')\n",
    "print(b)"
   ]
  },
  {
   "cell_type": "code",
   "execution_count": 20,
   "id": "29fb130c-2059-4336-b41a-726e0017a6c5",
   "metadata": {},
   "outputs": [
    {
     "name": "stdin",
     "output_type": "stream",
     "text": [
      "insert a sentence hello hello akib asif protyay\n"
     ]
    },
    {
     "name": "stdout",
     "output_type": "stream",
     "text": [
      "7   protyay\n"
     ]
    }
   ],
   "source": [
    "# longest word\n",
    "# def sortbylen(a):\n",
    "    \n",
    "#     a.sort(key=len)\n",
    "#     return a\n",
    "\n",
    "a=input(\"insert a sentence\")\n",
    "b=a.split()[::]\n",
    "max=0\n",
    "c=''\n",
    "for i in b:\n",
    "    if len(i)>max:\n",
    "        max=len(i)\n",
    "        c=i\n",
    "print(max, \" \" ,c)"
   ]
  },
  {
   "cell_type": "code",
   "execution_count": 23,
   "id": "41a7fff1-472b-46f6-a263-bdf91fd9c99b",
   "metadata": {},
   "outputs": [
    {
     "name": "stdin",
     "output_type": "stream",
     "text": [
      "insert a string: hello hello hkfsld kdf\n"
     ]
    },
    {
     "name": "stdout",
     "output_type": "stream",
     "text": [
      "hellohellohkfsldkdf\n"
     ]
    }
   ],
   "source": [
    "b=input(\"insert a string:\")\n",
    "b=b.replace(\" \",'')\n",
    "print(b)"
   ]
  },
  {
   "cell_type": "code",
   "execution_count": 25,
   "id": "45ab7451-3baf-4f6d-a041-f3fc3f3b0328",
   "metadata": {},
   "outputs": [
    {
     "name": "stdin",
     "output_type": "stream",
     "text": [
      "insert a string: hello hello\n"
     ]
    },
    {
     "name": "stdout",
     "output_type": "stream",
     "text": [
      "10\n"
     ]
    }
   ],
   "source": [
    "b=input(\"insert a string:\")\n",
    "a=sum(not i.isspace() for i in b)\n",
    "print(a)"
   ]
  },
  {
   "cell_type": "code",
   "execution_count": 26,
   "id": "0ae82cba-b7e2-44c4-8853-180e52e69f74",
   "metadata": {},
   "outputs": [
    {
     "name": "stdin",
     "output_type": "stream",
     "text": [
      "insert a string: hello\n"
     ]
    },
    {
     "name": "stdout",
     "output_type": "stream",
     "text": [
      "HELLO\n"
     ]
    }
   ],
   "source": [
    "b=input(\"insert a string:\")\n",
    "b=b.upper()\n",
    "print(b)"
   ]
  },
  {
   "cell_type": "code",
   "execution_count": 32,
   "id": "f7ab289e-d305-4899-8afa-0dd5a88a3174",
   "metadata": {},
   "outputs": [
    {
     "name": "stdin",
     "output_type": "stream",
     "text": [
      "insert a sentence caulliflower is a vegetable\n"
     ]
    },
    {
     "name": "stdout",
     "output_type": "stream",
     "text": [
      "5   caulliflower\n"
     ]
    }
   ],
   "source": [
    "a=input(\"insert a sentence\")\n",
    "b=a.split()[::]\n",
    "max=0\n",
    "\n",
    "c=''\n",
    "for i in b:\n",
    "    vc=0\n",
    "    for j in i:\n",
    "        if j=='a' or j=='e' or j=='i' or j=='o' or j=='u':\n",
    "            vc=vc+1\n",
    "    if(vc>max):\n",
    "        max=vc\n",
    "        c=i\n",
    "print(max, \" \" ,c)"
   ]
  },
  {
   "cell_type": "code",
   "execution_count": 42,
   "id": "5236eb8d-a47f-47ab-bf21-b968350e7cdf",
   "metadata": {},
   "outputs": [
    {
     "name": "stdout",
     "output_type": "stream",
     "text": [
      "Video provides a powerful way to help you prove your point. When you click Online Video, you can paste in the embed code for the video you want to add. You can also type a keyword to search online for the video that best fits your document.\n",
      "To make your document look professionally produced, Word provides header, footer, cover page, and text box designs that complement each other. For example, you can add a matching cover page, header, and sidebar. Click Insert and then choose the elements you want from the different galleries.\n",
      "\n",
      "['a', 'to', 'in', 'way', 'you', 'can', 'the', 'for', 'You', 'and', 'box', 'For', 'add', 'help', 'your', 'When', 'code', 'want', 'add.', 'also', 'type', 'that', 'best', 'fits', 'make', 'look', 'Word', 'text', 'each', 'then', 'from', 'Video', 'prove', 'click', 'paste', 'embed', 'video', 'cover', 'page,', 'Click', 'point.', 'Online', 'Video,', 'search', 'online', 'other.', 'Insert', 'choose', 'keyword', 'header,', 'footer,', 'designs', 'provides', 'powerful', 'document', 'example,', 'matching', 'sidebar.', 'elements', 'produced,', 'different', 'complement', 'galleries.\\n', 'document.\\nTo', 'professionally']\n",
      "a to in way you can the for You and box For add help your When code want add. also type that best fits make look Word text each then from Video prove click paste embed video cover page, Click point. Online Video, search online other. Insert choose keyword header, footer, designs provides powerful document example, matching sidebar. elements produced, different complement galleries.\n",
      " document.\n",
      "To professionally\n"
     ]
    }
   ],
   "source": [
    "def sortbylen(L):\n",
    "    L.sort(key=len)\n",
    "\n",
    "f=open(\"d:\\\\DataSet\\\\para.txt\")\n",
    "s=f.read()\n",
    "\n",
    "print(s)\n",
    "f.close()\n",
    "L=[]\n",
    "s=s.split(\" \")\n",
    "for i in s:\n",
    "    L.append(i)\n",
    "sortbylen(L)\n",
    "M=[]\n",
    "\n",
    "[M.append(i) for i in L if not i in M]\n",
    "print(M)\n",
    "e=(\" \".join(M))\n",
    "print(e)"
   ]
  },
  {
   "cell_type": "code",
   "execution_count": 43,
   "id": "f1f38b7e-f11c-4d57-a857-fc067b6bf01e",
   "metadata": {},
   "outputs": [
    {
     "data": {
      "text/plain": [
       "42"
      ]
     },
     "execution_count": 43,
     "metadata": {},
     "output_type": "execute_result"
    }
   ],
   "source": [
    "(2+4)*7"
   ]
  },
  {
   "cell_type": "code",
   "execution_count": 52,
   "id": "171f0fe4-6b83-42eb-a2b5-89775fb8184b",
   "metadata": {},
   "outputs": [
    {
     "name": "stdin",
     "output_type": "stream",
     "text": [
      "insert an expression 2*2+8\n"
     ]
    },
    {
     "name": "stdout",
     "output_type": "stream",
     "text": [
      "12\n"
     ]
    }
   ],
   "source": [
    "s=input(\"insert an expression\")\n",
    "print(eval(s))\n",
    "# print(2*2+8)\n",
    "# print(type(2*2-8))"
   ]
  },
  {
   "cell_type": "code",
   "execution_count": 57,
   "id": "77469fd6-afe5-44ce-84df-b54e51402b5f",
   "metadata": {},
   "outputs": [
    {
     "name": "stdout",
     "output_type": "stream",
     "text": [
      "Video provides a powerful way to help you prove your point. When you click Online Video, you can paste in the embed code for the video you want to add. You can also type a keyword to search online for the video that best fits your document.\n",
      "To make your document look professionally produced, Word provides header, footer, cover page, and text box designs that complement each other. For example, you can add a matching cover page, header, and sidebar. Click Insert and then choose the elements you want from the different galleries.\n",
      "\n",
      "Video provides powerful way to help you prove your point. When you click Online Video, you paste in embed code for video you want to add. You also type keyword to search online for video that best fits your document.\n",
      "To make your document look professionally produced, Word provides header, footer, cover page, and text box designs that complement each other. For example, you add matching cover page, header, and sidebar. Click Insert and then choose elements you want from different galleries.\n",
      "\n"
     ]
    }
   ],
   "source": [
    "#remove meaningless\n",
    "f=open(\"d:\\\\DataSet\\\\para.txt\")\n",
    "s=f.read()\n",
    "\n",
    "print(s)\n",
    "f.close()\n",
    "L=[]\n",
    "s=s.split(\" \")\n",
    "L=[]\n",
    "M=['a','an','the','has','have','can']\n",
    "\n",
    "[L.append(i) for i in s if i not in M]\n",
    "print(\" \".join(L))"
   ]
  },
  {
   "cell_type": "code",
   "execution_count": 70,
   "id": "ba2d8f78-46f8-4000-b98e-e41ed1872ee8",
   "metadata": {},
   "outputs": [
    {
     "name": "stdin",
     "output_type": "stream",
     "text": [
      "enter a number : 159\n"
     ]
    },
    {
     "name": "stdout",
     "output_type": "stream",
     "text": [
      "CLIX\n"
     ]
    }
   ],
   "source": [
    "def toroman(n):\n",
    "    R=['I','IV','V','IX','X','XL','L','XC','C','CD','D','CM','M']\n",
    "    N=[1,4,5,9,10,40,50,90,100,400,500,900,1000]\n",
    "    s=\"\"\n",
    "    n=int(n)\n",
    "    for i in range(len(N)-1,-1,-1):\n",
    "        a=n//N[i]\n",
    "        while(a>0):\n",
    "            s=s+R[i]\n",
    "            a=a-1        \n",
    "        n=n%N[i]\n",
    "    return s\n",
    "    \n",
    "a=int(input(\"enter a number :\"))\n",
    "rom=toroman(a)\n",
    "print(rom)"
   ]
  },
  {
   "cell_type": "code",
   "execution_count": 2,
   "id": "e4d66303-dbe4-4601-8c6e-9ebddf708ef2",
   "metadata": {},
   "outputs": [
    {
     "name": "stdout",
     "output_type": "stream",
     "text": [
      "(17, 76, 60, 38, 77, 85, 24, 55, 89, 82)\n",
      "(51, 152, 120, 76, 231, 255, 48, 165, 267, 164)\n"
     ]
    }
   ],
   "source": [
    "import random\n",
    "L=[random.randint(1,100) for i in range(10)]\n",
    "# print(L)\n",
    "t=tuple(L)\n",
    "ans=()\n",
    "for i in t:\n",
    "    if i%2==0:\n",
    "        ans=ans+(2*i,)\n",
    "    else:\n",
    "        ans=ans+(3*i,)\n",
    "print(t)\n",
    "print(ans)"
   ]
  },
  {
   "cell_type": "code",
   "execution_count": 5,
   "id": "dabf7096-3f52-495b-ae51-5c67e47f8af9",
   "metadata": {},
   "outputs": [
    {
     "name": "stdout",
     "output_type": "stream",
     "text": [
      "(28, 42, 31, 17, 96, 86, 47, 6, 69, 16)\n",
      "(96, 28, 42, 31, 17, 86, 47, 69, 16, 6)\n"
     ]
    }
   ],
   "source": [
    "import random\n",
    "L=[random.randint(1,100) for i in range(10)]\n",
    "t=tuple(L)\n",
    "print(t)\n",
    "min=100\n",
    "max=0\n",
    "for i in t:\n",
    "    if i>max:\n",
    "        max=i\n",
    "    if i<min:\n",
    "        min=i\n",
    "l=list(t)\n",
    "for i in range(0,len(l)):\n",
    "    if l[i]==max:\n",
    "        l.pop(i)\n",
    "        break\n",
    "for i in range(0,len(l)):\n",
    "    if l[i]==min:\n",
    "        l.pop(i)\n",
    "        break\n",
    "t=tuple(l)\n",
    "t=(max,)+t+(min,)\n",
    "print(t)\n"
   ]
  },
  {
   "cell_type": "code",
   "execution_count": 7,
   "id": "25e30176-ed9e-4dc7-9380-207fd37c803f",
   "metadata": {},
   "outputs": [
    {
     "name": "stdout",
     "output_type": "stream",
     "text": [
      "{'roll': 1, 'name': 'amit', 'marks': 50}\n",
      "dict_keys(['roll', 'name', 'marks'])\n",
      "dict_values([1, 'amit', 50])\n",
      "dict_items([('roll', 1), ('name', 'amit'), ('marks', 50)])\n"
     ]
    }
   ],
   "source": [
    "# dictionaries\n",
    "d={'roll':1, 'name':'amit', 'marks':50}\n",
    "print(d)\n",
    "print(d.keys())\n",
    "print(d.values())\n",
    "print(d.items())"
   ]
  },
  {
   "cell_type": "code",
   "execution_count": 9,
   "id": "169791c6-3bad-4af0-a16f-d32d031f285c",
   "metadata": {},
   "outputs": [
    {
     "name": "stdout",
     "output_type": "stream",
     "text": [
      "{'A': 65, 'B': 66, 'C': 67, 'D': 68, 'E': 69, 'F': 70, 'G': 71, 'H': 72, 'I': 73, 'J': 74, 'K': 75, 'L': 76, 'M': 77, 'N': 78, 'O': 79, 'P': 80, 'Q': 81, 'R': 82, 'S': 83, 'T': 84, 'U': 85, 'V': 86, 'W': 87, 'X': 88, 'Y': 89, 'Z': 90}\n"
     ]
    }
   ],
   "source": [
    "d={chr(i):i for i in range (65,91)}\n",
    "print(d)"
   ]
  },
  {
   "cell_type": "code",
   "execution_count": 15,
   "id": "520389a9-e873-4cc3-83da-0f747c9f3642",
   "metadata": {},
   "outputs": [
    {
     "name": "stdout",
     "output_type": "stream",
     "text": [
      "{'a': 30, 'e': 58, 'i': 20, 'o': 49, 'u': 14}\n"
     ]
    }
   ],
   "source": [
    "f=open(\"d:\\\\DataSet\\\\para.txt\")\n",
    "s=f.read()\n",
    "s=s.lower()\n",
    "d={'a':0,'e':0,'i':0,'o':0,'u':0}\n",
    "for i in s:\n",
    "    if i in d:\n",
    "        d[i]+=1\n",
    "print(d)\n"
   ]
  },
  {
   "cell_type": "code",
   "execution_count": 20,
   "id": "40feaa4a-6bd4-422e-8ea6-efc6b3b9b3f6",
   "metadata": {},
   "outputs": [
    {
     "name": "stdout",
     "output_type": "stream",
     "text": [
      "{'video': 3, 'provides': 2, 'a': 3, 'powerful': 1, 'way': 1, 'to': 4, 'help': 1, 'you': 7, 'prove': 1, 'your': 3, 'point.': 1, 'when': 1, 'click': 2, 'online': 2, 'video,': 1, 'can': 3, 'paste': 1, 'in': 1, 'the': 5, 'embed': 1, 'code': 1, 'for': 3, 'want': 2, 'add.': 1, 'also': 1, 'type': 1, 'keyword': 1, 'search': 1, 'that': 2, 'best': 1, 'fits': 1, 'document.': 1, 'make': 1, 'document': 1, 'look': 1, 'professionally': 1, 'produced,': 1, 'word': 1, 'header,': 2, 'footer,': 1, 'cover': 2, 'page,': 2, 'and': 3, 'text': 1, 'box': 1, 'designs': 1, 'complement': 1, 'each': 1, 'other.': 1, 'example,': 1, 'add': 1, 'matching': 1, 'sidebar.': 1, 'insert': 1, 'then': 1, 'choose': 1, 'elements': 1, 'from': 1, 'different': 1, 'galleries.': 1}\n"
     ]
    }
   ],
   "source": [
    "# frequency of each word\n",
    "f=open(\"d:\\\\DataSet\\\\para.txt\")\n",
    "s=f.read()\n",
    "s=s.lower()\n",
    "s=s.split()\n",
    "d={}\n",
    "for i in s:    \n",
    "    if i not in d:\n",
    "        d[i]=1\n",
    "    else:\n",
    "        d[i]+=1\n",
    "print(d)"
   ]
  },
  {
   "cell_type": "code",
   "execution_count": 30,
   "id": "fd791fa9-6498-4bb1-bb4e-7b3d79f20d05",
   "metadata": {},
   "outputs": [
    {
     "name": "stdout",
     "output_type": "stream",
     "text": [
      "{'video': 3, 'provides': 2, 'a': 3, 'powerful': 1, 'way': 1, 'to': 4, 'help': 1, 'you': 7, 'prove': 1, 'your': 3, 'point.': 1, 'when': 1, 'click': 2, 'online': 2, 'video,': 1, 'can': 3, 'paste': 1, 'in': 1, 'the': 5, 'embed': 1, 'code': 1, 'for': 3, 'want': 2, 'add.': 1, 'also': 1, 'type': 1, 'keyword': 1, 'search': 1, 'that': 2, 'best': 1, 'fits': 1, 'document.': 1, 'make': 1, 'document': 1, 'look': 1, 'professionally': 1, 'produced,': 1, 'word': 1, 'header,': 2, 'footer,': 1, 'cover': 2, 'page,': 2, 'and': 3, 'text': 1, 'box': 1, 'designs': 1, 'complement': 1, 'each': 1, 'other.': 1, 'example,': 1, 'add': 1, 'matching': 1, 'sidebar.': 1, 'insert': 1, 'then': 1, 'choose': 1, 'elements': 1, 'from': 1, 'different': 1, 'galleries.': 1}\n",
      "\n",
      "[('add', 1), ('add.', 1), ('also', 1), ('best', 1), ('box', 1), ('choose', 1), ('code', 1), ('complement', 1), ('designs', 1), ('different', 1), ('document', 1), ('document.', 1), ('each', 1), ('elements', 1), ('embed', 1), ('example,', 1), ('fits', 1), ('footer,', 1), ('from', 1), ('galleries.', 1), ('help', 1), ('in', 1), ('insert', 1), ('keyword', 1), ('look', 1), ('make', 1), ('matching', 1), ('other.', 1), ('paste', 1), ('point.', 1), ('powerful', 1), ('produced,', 1), ('professionally', 1), ('prove', 1), ('search', 1), ('sidebar.', 1), ('text', 1), ('then', 1), ('type', 1), ('video,', 1), ('way', 1), ('when', 1), ('word', 1), ('click', 2), ('cover', 2), ('header,', 2), ('online', 2), ('page,', 2), ('provides', 2), ('that', 2), ('want', 2), ('a', 3), ('and', 3), ('can', 3), ('for', 3), ('video', 3), ('your', 3), ('to', 4), ('the', 5), ('you', 7)]\n"
     ]
    }
   ],
   "source": [
    "# sort by values\n",
    "# def sortbyfreq(d):\n",
    "#     sort(d)(key:value)\n",
    "f=open(\"d:\\\\DataSet\\\\para.txt\")\n",
    "s=f.read()\n",
    "s=s.lower()\n",
    "s=s.split()\n",
    "d={}\n",
    "for i in s:    \n",
    "    if i not in d:\n",
    "        d[i]=1\n",
    "    else:\n",
    "        d[i]+=1\n",
    "print(d)\n",
    "print()\n",
    "print(sorted(d.items(), key=lambda d:(d[1],d[0])))\n"
   ]
  },
  {
   "cell_type": "code",
   "execution_count": 37,
   "id": "5703ecf2-3928-4f11-88be-47775f013b3b",
   "metadata": {},
   "outputs": [
    {
     "name": "stdout",
     "output_type": "stream",
     "text": [
      "dict_items([(1, 31), (2, 28), (3, 31), (4, 30), (5, 31), (6, 30), (7, 31), (8, 31), (9, 30), (10, 31), (11, 30), (12, 31)])\n",
      "[(2, 28), (4, 30), (6, 30), (9, 30), (11, 30), (1, 31), (3, 31), (5, 31), (7, 31), (8, 31), (10, 31), (12, 31)]\n"
     ]
    },
    {
     "name": "stdin",
     "output_type": "stream",
     "text": [
      "enter a month 12\n"
     ]
    },
    {
     "name": "stdout",
     "output_type": "stream",
     "text": [
      "31\n"
     ]
    }
   ],
   "source": [
    "d={1:31, 2:28, 3:31, 4:30, 5:31, 6:30, 7:31, 8:31, 9:30, 10:31, 11:30, 12:31}\n",
    "print(d.items())\n",
    "print(sorted(d.items(), key=lambda d:(d[1],d[0])))\n",
    "m=int(input(\"enter a month\"))\n",
    "if m<=12:\n",
    "    print(d[m])\n",
    "else:\n",
    "    print(\"invalid\")"
   ]
  },
  {
   "cell_type": "code",
   "execution_count": 27,
   "id": "20927d98-7dc9-4120-8cc1-6a7f8ae75eeb",
   "metadata": {},
   "outputs": [
    {
     "name": "stdout",
     "output_type": "stream",
     "text": [
      "{1: {'roll': 1, 'name': 'ABC', 'marks': [45, 46, 48]}, 2: {'roll': 2, 'name': 'CBA', 'marks': [35, 26, 49]}, 3: {'roll': 3, 'name': 'BAC', 'marks': [25, 50, 49]}}\n",
      "\n",
      "{1: {'roll': 1, 'name': 'ABC', 'marks': [45, 46, 48], 'sum': 139, 'avg': 46.333333333333336}, 2: {'roll': 2, 'name': 'CBA', 'marks': [35, 26, 49], 'sum': 110, 'avg': 36.666666666666664}, 3: {'roll': 3, 'name': 'BAC', 'marks': [25, 50, 49], 'sum': 124, 'avg': 41.333333333333336}}\n"
     ]
    }
   ],
   "source": [
    "from tabulate import tabulate\n",
    "d={1:{'roll':1,'name':'ABC', 'marks':[45,46,48]},2:{'roll':2,'name':'CBA', 'marks':[35,26,49]},3:{'roll':3,'name':'BAC', 'marks':[25,50,49]}}\n",
    "# print(d[1])\n",
    "# print(d[1]['roll'])\n",
    "print(d)\n",
    "print()\n",
    "for i in d:\n",
    "    s=sum(d[i]['marks'])\n",
    "    d[i]['sum']=s\n",
    "    d[i]['avg']=s/3\n",
    "print(d)"
   ]
  },
  {
   "cell_type": "code",
   "execution_count": 3,
   "id": "583aac75-2e49-4d4f-b7f0-226b0560071b",
   "metadata": {},
   "outputs": [
    {
     "name": "stdout",
     "output_type": "stream",
     "text": [
      "{1: 1, 2: 4, 3: 9, 4: 16, 5: 25}\n"
     ]
    }
   ],
   "source": [
    "d={}\n",
    "for i in range(1,6):\n",
    "    d[i]=i*i\n",
    "print(d)"
   ]
  },
  {
   "cell_type": "code",
   "execution_count": 52,
   "id": "8fd00893-9b52-426a-854f-a0c49cc934ef",
   "metadata": {},
   "outputs": [
    {
     "name": "stdout",
     "output_type": "stream",
     "text": [
      "[1, 2, 3, 4, 5, 6, 7, 8, 9, 10]\n",
      "[2, 4, 6, 8, 10, 12, 14, 16, 18, 20]\n",
      "\n",
      "{1: 2, 2: 4, 3: 6, 4: 8, 5: 10, 6: 12, 7: 14, 8: 16, 9: 18, 10: 20}\n"
     ]
    },
    {
     "ename": "TypeError",
     "evalue": "'zip' object is not callable",
     "output_type": "error",
     "traceback": [
      "\u001b[1;31m---------------------------------------------------------------------------\u001b[0m",
      "\u001b[1;31mTypeError\u001b[0m                                 Traceback (most recent call last)",
      "Cell \u001b[1;32mIn[52], line 16\u001b[0m\n\u001b[0;32m     13\u001b[0m \u001b[38;5;28mprint\u001b[39m(d)\n\u001b[0;32m     15\u001b[0m z \u001b[38;5;241m=\u001b[39m \u001b[38;5;28mzip\u001b[39m(M,L)\n\u001b[1;32m---> 16\u001b[0m \u001b[38;5;28mprint\u001b[39m(\u001b[38;5;28mdict\u001b[39m(z))\n",
      "\u001b[1;31mTypeError\u001b[0m: 'zip' object is not callable"
     ]
    }
   ],
   "source": [
    "# import random\n",
    "L=[i for i in range (1,11)]\n",
    "M=[2*i for i in range (1,11)]\n",
    "# M=[random.randint(15,50) for i in range(10)]\n",
    "# L=tuple(L)\n",
    "# M=tuple(M)\n",
    "print(L)\n",
    "print(M)\n",
    "print()\n",
    "d={}\n",
    "for i in range(0,len(L),1):\n",
    "    d[L[i]]=M[i]\n",
    "print(d)\n",
    "\n",
    "z = zip(M,L)\n",
    "print(dict(z))"
   ]
  },
  {
   "cell_type": "code",
   "execution_count": 10,
   "id": "202a3aa0-74f7-46ae-9e55-a2bbe1f25d8a",
   "metadata": {},
   "outputs": [
    {
     "name": "stdout",
     "output_type": "stream",
     "text": [
      "{1: 2, 2: 3, 3: 5, 4: 7, 5: 11, 6: 13, 7: 17, 8: 19, 9: 23, 10: 29, 11: 31, 12: 37, 13: 41, 14: 43, 15: 47, 16: 53, 17: 59, 18: 61, 19: 67, 20: 71}\n"
     ]
    }
   ],
   "source": [
    "def primeno(n):\n",
    "    if n==2:\n",
    "        return 1\n",
    "    for i in range(2,n-1):\n",
    "        if n%i==0:\n",
    "            return 0\n",
    "    return 1\n",
    "\n",
    "d={}\n",
    "i=1\n",
    "x=2\n",
    "while(i!=21):\n",
    "    if primeno(x)==1:\n",
    "        d[i]=x\n",
    "        i+=1    \n",
    "    x+=1\n",
    "print(d)"
   ]
  },
  {
   "cell_type": "code",
   "execution_count": 3,
   "id": "0f151764-9354-4b9d-9635-d668a9953b9d",
   "metadata": {},
   "outputs": [
    {
     "name": "stdout",
     "output_type": "stream",
     "text": [
      "{'1': 'one', '2': 'two', '3': 'three', '4': 'four', '5': 'five', '6': 'six', '7': 'seven', '8': 'eight', '9': 'nine', '0': 'zero'}\n"
     ]
    },
    {
     "name": "stdin",
     "output_type": "stream",
     "text": [
      "enter no. 488\n"
     ]
    },
    {
     "name": "stdout",
     "output_type": "stream",
     "text": [
      "four eight eight \n"
     ]
    }
   ],
   "source": [
    "d={'1':'one', '2':'two', '3':'three', '4':'four', '5':'five', '6':'six', '7':'seven', '8':'eight', '9':'nine', '0':'zero'}\n",
    "print(d)\n",
    "# print(\"display in words\")\n",
    "n=input(\"enter no.\")\n",
    "ans=''\n",
    "for i in n:\n",
    "    ans +=  d[i]+' '\n",
    "    \n",
    "print(ans)"
   ]
  },
  {
   "cell_type": "code",
   "execution_count": 24,
   "id": "78cc4c0a-e1e3-4598-bbb7-2cf73e0d2bcb",
   "metadata": {},
   "outputs": [
    {
     "name": "stdout",
     "output_type": "stream",
     "text": [
      "{1: 1, 10: 2, 3: 4, 4: 2, 6: 8, 8: 4, 5: 12, 2: 0}\n",
      "{1: 1, 10: 2, 3: 4, 6: 8, 5: 12, 2: 0}\n"
     ]
    }
   ],
   "source": [
    "d={1:1, 10:2, 3:4, 4:2, 6:8, 8:4, 5:12, 2:0}\n",
    "print(d)\n",
    "torem=[]\n",
    "val={}\n",
    "for i in d:\n",
    "    \n",
    "    if d[i] in val:\n",
    "        torem.append(i)\n",
    "    else:\n",
    "        val[d[i]]=1\n",
    "for i in torem:\n",
    "    del d[i]\n",
    "print(d)"
   ]
  },
  {
   "cell_type": "code",
   "execution_count": 29,
   "id": "336ccaea-c4df-4713-9b53-c88a65fbd2b4",
   "metadata": {},
   "outputs": [
    {
     "name": "stdout",
     "output_type": "stream",
     "text": [
      "{1: 1, 10: 2, 8: 4, 5: 12, 2: 0}\n",
      "{1: 1, 10: 2, 3: 4, 4: 2, 5: 8, 6: 9}\n",
      "{8: 4, 2: 0, 3: 4, 4: 2, 6: 9}\n"
     ]
    }
   ],
   "source": [
    "c={1:1, 10:2, 8:4, 5:12, 2:0}\n",
    "d={1:1, 10:2, 3:4, 4:2, 5:8, 6:9}\n",
    "e={}\n",
    "for i in c:\n",
    "    if i not in d:\n",
    "        e[i]=c[i]\n",
    "        \n",
    "for i in d:\n",
    "    if i not in c:\n",
    "        e[i]=d[i]\n",
    "        \n",
    "print(c)\n",
    "print(d)\n",
    "print(e)"
   ]
  },
  {
   "cell_type": "code",
   "execution_count": 53,
   "id": "2df410ff-a4de-4d7e-aae2-69c555365cfc",
   "metadata": {},
   "outputs": [
    {
     "name": "stdout",
     "output_type": "stream",
     "text": [
      "{1: 1, 2: 1, 3: 2, 4: 3, 5: 5, 6: 8, 7: 13, 8: 21, 9: 34, 10: 55}\n"
     ]
    }
   ],
   "source": [
    "#fibonacci\n",
    "d={1:1, 2:1}\n",
    "for i in range(3,11):\n",
    "    d[i]=d[i-1]+d[i-2]\n",
    "print(d)"
   ]
  },
  {
   "cell_type": "code",
   "execution_count": 63,
   "id": "a300e89f-3107-4c65-9e58-aab1ebb20dc7",
   "metadata": {},
   "outputs": [
    {
     "ename": "AttributeError",
     "evalue": "'zip' object has no attribute 'fromkeys'",
     "output_type": "error",
     "traceback": [
      "\u001b[1;31m---------------------------------------------------------------------------\u001b[0m",
      "\u001b[1;31mAttributeError\u001b[0m                            Traceback (most recent call last)",
      "Cell \u001b[1;32mIn[63], line 4\u001b[0m\n\u001b[0;32m      1\u001b[0m \u001b[38;5;66;03m# d = {i:100 for i in range(1,11)}\u001b[39;00m\n\u001b[0;32m      2\u001b[0m \u001b[38;5;66;03m# print(d)\u001b[39;00m\n\u001b[0;32m      3\u001b[0m L\u001b[38;5;241m=\u001b[39m[i \u001b[38;5;28;01mfor\u001b[39;00m i \u001b[38;5;129;01min\u001b[39;00m \u001b[38;5;28mrange\u001b[39m(\u001b[38;5;241m1\u001b[39m,\u001b[38;5;241m11\u001b[39m)]\n\u001b[1;32m----> 4\u001b[0m d\u001b[38;5;241m=\u001b[39m\u001b[38;5;28mdict\u001b[39m\u001b[38;5;241m.\u001b[39mfromkeys(L,\u001b[38;5;241m100\u001b[39m)\n",
      "\u001b[1;31mAttributeError\u001b[0m: 'zip' object has no attribute 'fromkeys'"
     ]
    }
   ],
   "source": [
    "# d = {i:100 for i in range(1,11)}\n",
    "# print(d)\n",
    "L=[i for i in range(1,11)]\n",
    "d=dict.fromkeys(L,100)\n",
    "# TRY IN ONLINE COMPILER"
   ]
  },
  {
   "cell_type": "code",
   "execution_count": 62,
   "id": "4af287a2-2ff9-4f40-b702-87b85fb96985",
   "metadata": {},
   "outputs": [
    {
     "name": "stdin",
     "output_type": "stream",
     "text": [
      "enter a string hello \n"
     ]
    },
    {
     "name": "stdout",
     "output_type": "stream",
     "text": [
      "{'h': 104, 'e': 101, 'l': 108, 'o': 111, ' ': 32}\n"
     ]
    }
   ],
   "source": [
    "s= input(\"enter a string\")\n",
    "d={}\n",
    "for i in s:\n",
    "    d[i]=ord(i)\n",
    "print(d)"
   ]
  },
  {
   "cell_type": "markdown",
   "id": "25fc51a0-11fa-4c50-9883-4f7e011bbf66",
   "metadata": {},
   "source": [
    "##Working with csv file"
   ]
  },
  {
   "cell_type": "code",
   "execution_count": 4,
   "id": "78b364c1-e745-47ff-87c7-e160cb8d2c3c",
   "metadata": {},
   "outputs": [],
   "source": [
    "import csv\n",
    "L=[['Roll','Name','Marks'],[1,'Amit',78],[2,'Rajib',56]]\n",
    "f=open(\"d:\\\\DataSet\\\\stu.csv\",\"w\",newline='')\n",
    "w=csv.writer(f)\n",
    "w.writerows(L)\n",
    "f.close()"
   ]
  },
  {
   "cell_type": "code",
   "execution_count": 5,
   "id": "01943fe9-81f7-48c0-ba33-61de8031ba24",
   "metadata": {},
   "outputs": [
    {
     "name": "stdout",
     "output_type": "stream",
     "text": [
      "['Roll', 'Name', 'Marks']\n",
      "['1', 'Amit', '78']\n",
      "['2', 'Rajib', '56']\n"
     ]
    }
   ],
   "source": [
    "with open(\"d:\\\\DataSet\\\\stu.csv\") as f:\n",
    "    d=csv.reader(f)\n",
    "    for i in d:\n",
    "        print(i)\n"
   ]
  },
  {
   "cell_type": "code",
   "execution_count": 26,
   "id": "8ea9f8f4-1791-4377-b7c3-237286a0b858",
   "metadata": {},
   "outputs": [],
   "source": [
    "import csv\n",
    "L=[['E.id','name','basic','da','hra','gross'],[1,'Amit',20000],[2,'sumit',30000],[3,'Lalit',12000],[4,'Tipu',15640],[5,'Charan',14560],[6,'Amit',20050],[7,'kumit',80000],[8,'Salit',82000],[9,'Tina',19640],[10,'Chandaan',14560]]\n",
    "for i in range(1,len(L)):\n",
    "    da=L[i][2]*(1.4)\n",
    "    hr=L[i][2]*1.2\n",
    "    g=da+hr+L[i][2]\n",
    "    L[i].extend([da,hr,g])\n",
    "\n",
    "f=open(\"d:\\\\DataSet\\\\emp2.csv\",\"w\",newline='')\n",
    "w=csv.writer(f)\n",
    "w.writerows(L)\n",
    "f.close()"
   ]
  },
  {
   "cell_type": "code",
   "execution_count": 27,
   "id": "7e35f805-0810-4f7d-a6ef-601855a36cc1",
   "metadata": {},
   "outputs": [
    {
     "name": "stdout",
     "output_type": "stream",
     "text": [
      "['E.id', 'name', 'basic', 'da', 'hra', 'gross']\n",
      "['1', 'Amit', '20000', '28000.0', '24000.0', '72000.0']\n",
      "['2', 'sumit', '30000', '42000.0', '36000.0', '108000.0']\n",
      "['3', 'Lalit', '12000', '16800.0', '14400.0', '43200.0']\n",
      "['4', 'Tipu', '15640', '21896.0', '18768.0', '56304.0']\n",
      "['5', 'Charan', '14560', '20384.0', '17472.0', '52416.0']\n",
      "['6', 'Amit', '20050', '28070.0', '24060.0', '72180.0']\n",
      "['7', 'kumit', '80000', '112000.0', '96000.0', '288000.0']\n",
      "['8', 'Salit', '82000', '114799.99999999999', '98400.0', '295200.0']\n",
      "['9', 'Tina', '19640', '27496.0', '23568.0', '70704.0']\n",
      "['10', 'Chandaan', '14560', '20384.0', '17472.0', '52416.0']\n"
     ]
    }
   ],
   "source": [
    "\n",
    "with open(\"d:\\\\DataSet\\\\emp2.csv\") as f:\n",
    "    d=csv.reader(f)\n",
    "    for i in d:\n",
    "        print(i)"
   ]
  },
  {
   "cell_type": "code",
   "execution_count": 75,
   "id": "f776cca5-2f01-4400-8bc8-b89afe32de9a",
   "metadata": {},
   "outputs": [
    {
     "name": "stdout",
     "output_type": "stream",
     "text": [
      "----  -----  ---  -----  ---\n",
      "Roll  name   eng  maths  sci\n",
      "1     aayan  59   99     39\n",
      "2     ahana  37   25     57\n",
      "3     amit   51   70     90\n",
      "4     atasi  86   60     21\n",
      "5     argha  79   10     62\n",
      "6     avi    16   38     30\n",
      "7     anup   77   76     16\n",
      "8     arun   54   64     37\n",
      "9     aruni  96   35     80\n",
      "10    aditi  70   89     13\n",
      "11    kunal  74   22     58\n",
      "----  -----  ---  -----  ---\n",
      "╒══════╤═══════╤═════╤═══════╤═════╤═══════╤════════════════════╕\n",
      "│ Roll │ name  │ eng │ maths │ sci │ total │ avg                │\n",
      "├──────┼───────┼─────┼───────┼─────┼───────┼────────────────────┤\n",
      "│ 1    │ aayan │ 59  │ 99    │ 39  │ 197   │ 65.66666666666667  │\n",
      "├──────┼───────┼─────┼───────┼─────┼───────┼────────────────────┤\n",
      "│ 2    │ ahana │ 37  │ 25    │ 57  │ 119   │ 39.666666666666664 │\n",
      "├──────┼───────┼─────┼───────┼─────┼───────┼────────────────────┤\n",
      "│ 3    │ amit  │ 51  │ 70    │ 90  │ 211   │ 70.33333333333333  │\n",
      "├──────┼───────┼─────┼───────┼─────┼───────┼────────────────────┤\n",
      "│ 4    │ atasi │ 86  │ 60    │ 21  │ 167   │ 55.666666666666664 │\n",
      "├──────┼───────┼─────┼───────┼─────┼───────┼────────────────────┤\n",
      "│ 5    │ argha │ 79  │ 10    │ 62  │ 151   │ 50.333333333333336 │\n",
      "├──────┼───────┼─────┼───────┼─────┼───────┼────────────────────┤\n",
      "│ 6    │ avi   │ 16  │ 38    │ 30  │ 84    │ 28.0               │\n",
      "├──────┼───────┼─────┼───────┼─────┼───────┼────────────────────┤\n",
      "│ 7    │ anup  │ 77  │ 76    │ 16  │ 169   │ 56.333333333333336 │\n",
      "├──────┼───────┼─────┼───────┼─────┼───────┼────────────────────┤\n",
      "│ 8    │ arun  │ 54  │ 64    │ 37  │ 155   │ 51.666666666666664 │\n",
      "├──────┼───────┼─────┼───────┼─────┼───────┼────────────────────┤\n",
      "│ 9    │ aruni │ 96  │ 35    │ 80  │ 211   │ 70.33333333333333  │\n",
      "├──────┼───────┼─────┼───────┼─────┼───────┼────────────────────┤\n",
      "│ 10   │ aditi │ 70  │ 89    │ 13  │ 172   │ 57.333333333333336 │\n",
      "├──────┼───────┼─────┼───────┼─────┼───────┼────────────────────┤\n",
      "│ 11   │ kunal │ 74  │ 22    │ 58  │ 154   │ 51.333333333333336 │\n",
      "╘══════╧═══════╧═════╧═══════╧═════╧═══════╧════════════════════╛\n"
     ]
    },
    {
     "ename": "TypeError",
     "evalue": "'int' object is not subscriptable",
     "output_type": "error",
     "traceback": [
      "\u001b[1;31m---------------------------------------------------------------------------\u001b[0m",
      "\u001b[1;31mTypeError\u001b[0m                                 Traceback (most recent call last)",
      "Cell \u001b[1;32mIn[75], line 29\u001b[0m\n\u001b[0;32m     27\u001b[0m \u001b[38;5;28;01mfor\u001b[39;00m i \u001b[38;5;129;01min\u001b[39;00m \u001b[38;5;28mrange\u001b[39m(\u001b[38;5;241m1\u001b[39m,\u001b[38;5;28mlen\u001b[39m(L)):\n\u001b[0;32m     28\u001b[0m     M\u001b[38;5;241m.\u001b[39mappend(i)\n\u001b[1;32m---> 29\u001b[0m sortbyavg(M)\n\u001b[0;32m     30\u001b[0m \u001b[38;5;28mprint\u001b[39m(tabulate(M))\n",
      "Cell \u001b[1;32mIn[75], line 3\u001b[0m, in \u001b[0;36msortbyavg\u001b[1;34m(L)\u001b[0m\n\u001b[0;32m      2\u001b[0m \u001b[38;5;28;01mdef\u001b[39;00m \u001b[38;5;21msortbyavg\u001b[39m(L):\n\u001b[1;32m----> 3\u001b[0m     L\u001b[38;5;241m.\u001b[39msort(key\u001b[38;5;241m=\u001b[39m\u001b[38;5;28;01mlambda\u001b[39;00m x:x[\u001b[38;5;241m5\u001b[39m])\n\u001b[0;32m      4\u001b[0m     \u001b[38;5;28;01mreturn\u001b[39;00m L\n",
      "Cell \u001b[1;32mIn[75], line 3\u001b[0m, in \u001b[0;36msortbyavg.<locals>.<lambda>\u001b[1;34m(x)\u001b[0m\n\u001b[0;32m      2\u001b[0m \u001b[38;5;28;01mdef\u001b[39;00m \u001b[38;5;21msortbyavg\u001b[39m(L):\n\u001b[1;32m----> 3\u001b[0m     L\u001b[38;5;241m.\u001b[39msort(key\u001b[38;5;241m=\u001b[39m\u001b[38;5;28;01mlambda\u001b[39;00m x:x[\u001b[38;5;241m5\u001b[39m])\n\u001b[0;32m      4\u001b[0m     \u001b[38;5;28;01mreturn\u001b[39;00m L\n",
      "\u001b[1;31mTypeError\u001b[0m: 'int' object is not subscriptable"
     ]
    }
   ],
   "source": [
    "from tabulate import tabulate \n",
    "def sortbyavg(L):\n",
    "    L.sort(key=lambda x:x[5])\n",
    "    return L\n",
    "    \n",
    "f=open(\"d:\\\\DataSet\\\\Book1.csv\",\"r\",newline='')\n",
    "d=csv.reader(f)\n",
    "L=[]\n",
    "for i in d:\n",
    "    L.append(i)\n",
    "print(tabulate(L))\n",
    "L[0].extend(['total','avg'])\n",
    "for i in range(1,len(L)):\n",
    "    s= int(L[i][2])+int(L[i][3])+int(L[i][4])\n",
    "    avg = s/3\n",
    "    L[i].extend([s,avg])\n",
    "print(tabulate(L,tablefmt='fancy_grid'))\n",
    "# print(L[])\n",
    "# print(tabulate(L))\n",
    "f.close()\n",
    "f=open(\"d:\\\\DataSet\\\\Book1.csv\",\"w\",newline='')\n",
    "w=csv.writer(f)\n",
    "w.writerows(L)\n",
    "f.close()\n",
    "\n",
    "# M=[]\n",
    "# for i in range(1,len(L)):\n",
    "#     M.append(i)\n",
    "# sortbyavg(M)\n",
    "# print(tabulate(M))"
   ]
  },
  {
   "cell_type": "code",
   "execution_count": 85,
   "id": "75223c49-36e2-4164-988e-4b648be09893",
   "metadata": {},
   "outputs": [],
   "source": [
    "from tabulate import tabulate\n",
    "def vow(n):\n",
    "    vow=0\n",
    "    if 'a' in n or 'e' in n or 'i' in n or 'o' in n or 'u' in n :\n",
    "        vow+=1\n",
    "    return vow\n",
    "f=open(\"d:\\\\DataSet\\\\para.txt\")\n",
    "s=f.read()\n",
    "s=s.lower()\n",
    "L=[['word','len','vowel','consonant']]\n",
    "s=s.split()\n",
    "for i in s:\n",
    "    l=len(i)\n",
    "    v=vow(i)\n",
    "    L.append([i,l,v,l-v])\n",
    "# print(tabulate(L))\n",
    "f=open(\"d:\\\\DataSet\\\\Book2.csv\",\"w\",newline='')\n",
    "w=csv.writer(f)\n",
    "w.writerows(L)\n",
    "f.close()"
   ]
  },
  {
   "cell_type": "code",
   "execution_count": 30,
   "id": "499c2c62-85f6-45fe-98de-37b3a7a91a24",
   "metadata": {},
   "outputs": [
    {
     "name": "stdout",
     "output_type": "stream",
     "text": [
      "reading data\n",
      "{'roll': 1, 'name': 'ana', 'marks': 89}\n",
      "{'roll': 3, 'name': 'adi', 'marks': 48}\n",
      "{'roll': 4, 'name': 'ant', 'marks': 43}\n",
      "{'roll': 9, 'name': 'akil', 'marks': 48}\n",
      "sort data acc to marks\n",
      "Ran out of input\n"
     ]
    }
   ],
   "source": [
    "from collections import OrderedDict\n",
    "import pickle\n",
    "\n",
    "def sortData():\n",
    "    f=open(\"d:\\\\DataSet\\\\stu.dat\",\"rb\")\n",
    "    print(\"sort data acc to marks\")\n",
    "    L={}\n",
    "    try:\n",
    "        x=1\n",
    "        while True:\n",
    "            d=pickle.load(f)\n",
    "            L[x]=d\n",
    "            x+=1\n",
    "        print(L)\n",
    "        L1=sorted(L.items(),key=lambda i:(i[1]['marks']))\n",
    "        print(L1)\n",
    "    except EOFError as e:\n",
    "        print(e)\n",
    "        f.close()\n",
    "    # for i in L:\n",
    "    #     print(i)\n",
    "    \n",
    "    \n",
    "    \n",
    "def writeData():\n",
    "    f=open(\"d:\\\\DataSet\\\\stu.dat\",\"ab\")\n",
    "    while True:\n",
    "        d={}\n",
    "        d['roll']=int(input(\"enter roll\"))\n",
    "        d['name']=input(\"enter name\")\n",
    "        d['marks']=int(input(\"enter marks\"))\n",
    "        pickle.dump(d,f)\n",
    "        ans=input(\"press y to continue\")\n",
    "        if ans!='y':\n",
    "            break\n",
    "    f.close()\n",
    "def readData():\n",
    "    f=open(\"d:\\\\DataSet\\\\stu.dat\",\"rb\")\n",
    "    print(\"reading data\")\n",
    "    try:\n",
    "        while True:\n",
    "            d=pickle.load(f)\n",
    "            print(d)\n",
    "    except EOFError:\n",
    "        f.close()\n",
    "# writeData()\n",
    "readData()\n",
    "sortData()"
   ]
  },
  {
   "cell_type": "code",
   "execution_count": 21,
   "id": "389405de-6c29-4bbe-a890-a8201449a609",
   "metadata": {},
   "outputs": [
    {
     "name": "stdout",
     "output_type": "stream",
     "text": [
      "[(3, {'roll': 4, 'name': 'ant', 'marks': 43}), (2, {'roll': 3, 'name': 'adi', 'marks': 48}), (4, {'roll': 9, 'name': 'akil', 'marks': 48}), (1, {'roll': 1, 'name': 'ana', 'marks': 89})]\n"
     ]
    }
   ],
   "source": [
    "d={1: {'roll': 1, 'name': 'ana', 'marks': 89}, 2: {'roll': 3, 'name': 'adi', 'marks': 48}, 3: {'roll': 4, 'name': 'ant', 'marks': 43}, 4: {'roll': 9, 'name': 'akil', 'marks': 48}}\n",
    "L=sorted(d.items(),key=lambda i:(i[1]['marks']))\n",
    "print(L)"
   ]
  },
  {
   "cell_type": "code",
   "execution_count": 47,
   "id": "a8f236e2-8021-4b97-a96a-41bd2fa44fed",
   "metadata": {},
   "outputs": [
    {
     "name": "stdout",
     "output_type": "stream",
     "text": [
      "L:\n",
      "╒═══╤═══╤═══╤═══╤═══╕\n",
      "│ 2 │ 2 │ 4 │ 0 │ 1 │\n",
      "├───┼───┼───┼───┼───┤\n",
      "│ 6 │ 6 │ 1 │ 8 │ 9 │\n",
      "├───┼───┼───┼───┼───┤\n",
      "│ 5 │ 4 │ 4 │ 6 │ 3 │\n",
      "├───┼───┼───┼───┼───┤\n",
      "│ 1 │ 3 │ 1 │ 6 │ 0 │\n",
      "├───┼───┼───┼───┼───┤\n",
      "│ 5 │ 7 │ 4 │ 4 │ 3 │\n",
      "╘═══╧═══╧═══╧═══╧═══╛\n",
      "╒═══╤═══╤═══╤═══╤═══╕\n",
      "│ 0 │ 0 │ 0 │ 0 │ 0 │\n",
      "├───┼───┼───┼───┼───┤\n",
      "│ 6 │ 6 │ 1 │ 0 │ 0 │\n",
      "├───┼───┼───┼───┼───┤\n",
      "│ 5 │ 4 │ 4 │ 0 │ 0 │\n",
      "├───┼───┼───┼───┼───┤\n",
      "│ 0 │ 0 │ 0 │ 0 │ 0 │\n",
      "├───┼───┼───┼───┼───┤\n",
      "│ 5 │ 7 │ 4 │ 0 │ 0 │\n",
      "╘═══╧═══╧═══╧═══╧═══╛\n"
     ]
    }
   ],
   "source": [
    "import random \n",
    "\n",
    "from tabulate import tabulate\n",
    "\n",
    "# def make0(L):\n",
    "    \n",
    "L = [[ random.randint(0,10) for i in range (5)] for j in range  (5)]\n",
    "print('L:')\n",
    "print(tabulate(L,tablefmt='fancy_grid'))\n",
    "toDel=[]\n",
    "f=0\n",
    "for i in range(len(L)):\n",
    "    for j in range(len(L[0])):\n",
    "        if L[i][j]==0:\n",
    "            a,b=i,j\n",
    "            toDel.append([a,b])\n",
    "            f=1\n",
    "            # break\n",
    "if f==1:\n",
    "    for k in toDel:\n",
    "        for j in range(len(L[0])):\n",
    "            L[k[0]][j]=0\n",
    "        for i in range (len(L)):\n",
    "            L[i][k[1]]=0\n",
    "\n",
    "    print(tabulate(L,tablefmt='fancy_grid'))\n",
    "            "
   ]
  },
  {
   "cell_type": "code",
   "execution_count": null,
   "id": "30f1e749-d826-4ae9-97cb-b3bdf729c07c",
   "metadata": {},
   "outputs": [],
   "source": []
  }
 ],
 "metadata": {
  "kernelspec": {
   "display_name": "Python 3 (ipykernel)",
   "language": "python",
   "name": "python3"
  },
  "language_info": {
   "codemirror_mode": {
    "name": "ipython",
    "version": 3
   },
   "file_extension": ".py",
   "mimetype": "text/x-python",
   "name": "python",
   "nbconvert_exporter": "python",
   "pygments_lexer": "ipython3",
   "version": "3.11.7"
  }
 },
 "nbformat": 4,
 "nbformat_minor": 5
}
