{
 "cells": [
  {
   "cell_type": "code",
   "execution_count": 4,
   "id": "63a8db56-fcd4-476a-a12a-3a6a03a7e619",
   "metadata": {},
   "outputs": [],
   "source": [
    "import seaborn as sns\n"
   ]
  },
  {
   "cell_type": "code",
   "execution_count": 7,
   "id": "81da0967-ac0a-4d43-a9dd-86d4320eaaa5",
   "metadata": {},
   "outputs": [
    {
     "data": {
      "text/html": [
       "<div>\n",
       "<style scoped>\n",
       "    .dataframe tbody tr th:only-of-type {\n",
       "        vertical-align: middle;\n",
       "    }\n",
       "\n",
       "    .dataframe tbody tr th {\n",
       "        vertical-align: top;\n",
       "    }\n",
       "\n",
       "    .dataframe thead th {\n",
       "        text-align: right;\n",
       "    }\n",
       "</style>\n",
       "<table border=\"1\" class=\"dataframe\">\n",
       "  <thead>\n",
       "    <tr style=\"text-align: right;\">\n",
       "      <th></th>\n",
       "      <th>sepal_length</th>\n",
       "      <th>sepal_width</th>\n",
       "      <th>petal_length</th>\n",
       "      <th>petal_width</th>\n",
       "      <th>species</th>\n",
       "    </tr>\n",
       "  </thead>\n",
       "  <tbody>\n",
       "    <tr>\n",
       "      <th>0</th>\n",
       "      <td>5.1</td>\n",
       "      <td>3.5</td>\n",
       "      <td>1.4</td>\n",
       "      <td>0.2</td>\n",
       "      <td>setosa</td>\n",
       "    </tr>\n",
       "    <tr>\n",
       "      <th>1</th>\n",
       "      <td>4.9</td>\n",
       "      <td>3.0</td>\n",
       "      <td>1.4</td>\n",
       "      <td>0.2</td>\n",
       "      <td>setosa</td>\n",
       "    </tr>\n",
       "    <tr>\n",
       "      <th>2</th>\n",
       "      <td>4.7</td>\n",
       "      <td>3.2</td>\n",
       "      <td>1.3</td>\n",
       "      <td>0.2</td>\n",
       "      <td>setosa</td>\n",
       "    </tr>\n",
       "    <tr>\n",
       "      <th>3</th>\n",
       "      <td>4.6</td>\n",
       "      <td>3.1</td>\n",
       "      <td>1.5</td>\n",
       "      <td>0.2</td>\n",
       "      <td>setosa</td>\n",
       "    </tr>\n",
       "    <tr>\n",
       "      <th>4</th>\n",
       "      <td>5.0</td>\n",
       "      <td>3.6</td>\n",
       "      <td>1.4</td>\n",
       "      <td>0.2</td>\n",
       "      <td>setosa</td>\n",
       "    </tr>\n",
       "  </tbody>\n",
       "</table>\n",
       "</div>"
      ],
      "text/plain": [
       "   sepal_length  sepal_width  petal_length  petal_width species\n",
       "0           5.1          3.5           1.4          0.2  setosa\n",
       "1           4.9          3.0           1.4          0.2  setosa\n",
       "2           4.7          3.2           1.3          0.2  setosa\n",
       "3           4.6          3.1           1.5          0.2  setosa\n",
       "4           5.0          3.6           1.4          0.2  setosa"
      ]
     },
     "execution_count": 7,
     "metadata": {},
     "output_type": "execute_result"
    }
   ],
   "source": [
    "df=sns.load_dataset('iris')\n",
    "df.head()"
   ]
  },
  {
   "cell_type": "code",
   "execution_count": 13,
   "id": "dafae3dc-4899-458d-9b6b-4112e6c1b599",
   "metadata": {},
   "outputs": [
    {
     "data": {
      "text/plain": [
       "<Axes: xlabel='petal_length', ylabel='petal_width'>"
      ]
     },
     "execution_count": 13,
     "metadata": {},
     "output_type": "execute_result"
    },
    {
     "data": {
      "image/png": "[encoded data removed]",
      "text/plain": [
       "<Figure size 640x480 with 1 Axes>"
      ]
     },
     "metadata": {},
     "output_type": "display_data"
    }
   ],
   "source": [
    "df.plot.scatter(x='petal_length', y='petal_width',s=5,c='red')"
   ]
  },
  {
   "cell_type": "code",
   "execution_count": 5,
   "id": "ab4d10c6-b61d-40bf-960a-fc6728f6087f",
   "metadata": {},
   "outputs": [
    {
     "name": "stdout",
     "output_type": "stream",
     "text": [
      "Requirement already satisfied: opencv-python in c:\\users\\ananya roy\\anaconda3\\lib\\site-packages (4.10.0.84)\n",
      "Requirement already satisfied: numpy>=1.21.2 in c:\\users\\ananya roy\\anaconda3\\lib\\site-packages (from opencv-python) (1.26.4)\n"
     ]
    }
   ],
   "source": [
    "import numpy as np\n",
    "!pip install opencv-python\n",
    "import cv2"
   ]
  },
  {
   "cell_type": "code",
   "execution_count": 24,
   "id": "67a2e841-bd51-4870-90c2-d64f76b2c4a7",
   "metadata": {},
   "outputs": [
    {
     "name": "stdout",
     "output_type": "stream",
     "text": [
      "Requirement already satisfied: matplotlib in c:\\users\\ananya roy\\anaconda3\\lib\\site-packages (3.8.0)\n",
      "Requirement already satisfied: contourpy>=1.0.1 in c:\\users\\ananya roy\\anaconda3\\lib\\site-packages (from matplotlib) (1.2.0)\n",
      "Requirement already satisfied: cycler>=0.10 in c:\\users\\ananya roy\\anaconda3\\lib\\site-packages (from matplotlib) (0.11.0)\n",
      "Requirement already satisfied: fonttools>=4.22.0 in c:\\users\\ananya roy\\anaconda3\\lib\\site-packages (from matplotlib) (4.25.0)\n",
      "Requirement already satisfied: kiwisolver>=1.0.1 in c:\\users\\ananya roy\\anaconda3\\lib\\site-packages (from matplotlib) (1.4.4)\n",
      "Requirement already satisfied: numpy<2,>=1.21 in c:\\users\\ananya roy\\anaconda3\\lib\\site-packages (from matplotlib) (1.26.4)\n",
      "Requirement already satisfied: packaging>=20.0 in c:\\users\\ananya roy\\anaconda3\\lib\\site-packages (from matplotlib) (23.1)\n",
      "Requirement already satisfied: pillow>=6.2.0 in c:\\users\\ananya roy\\anaconda3\\lib\\site-packages (from matplotlib) (10.2.0)\n",
      "Requirement already satisfied: pyparsing>=2.3.1 in c:\\users\\ananya roy\\anaconda3\\lib\\site-packages (from matplotlib) (3.0.9)\n",
      "Requirement already satisfied: python-dateutil>=2.7 in c:\\users\\ananya roy\\anaconda3\\lib\\site-packages (from matplotlib) (2.8.2)\n",
      "Requirement already satisfied: six>=1.5 in c:\\users\\ananya roy\\anaconda3\\lib\\site-packages (from python-dateutil>=2.7->matplotlib) (1.16.0)\n",
      "Note: you may need to restart the kernel to use updated packages.\n"
     ]
    }
   ],
   "source": [
    "pip install matplotlib"
   ]
  },
  {
   "cell_type": "code",
   "execution_count": 6,
   "id": "90e25b4d-d3aa-448d-bf2c-05c27807d20d",
   "metadata": {},
   "outputs": [],
   "source": [
    "img=cv2.imread(\"D:\\\\DataSet\\\\t3rX7vW.jpg\",0)\n",
    "cv2.imshow(\"image\",img)\n",
    "\n",
    "cv2.waitKey(0)\n",
    "cv2.destroyAllWindows()"
   ]
  },
  {
   "cell_type": "code",
   "execution_count": 32,
   "id": "4eb5b2f1-a1a4-4380-b73b-0d86e822f669",
   "metadata": {},
   "outputs": [
    {
     "name": "stdout",
     "output_type": "stream",
     "text": [
      "[[49 49 49 ... 48 48 48]\n",
      " [49 49 49 ... 48 48 48]\n",
      " [49 49 49 ... 48 48 48]\n",
      " ...\n",
      " [ 2  2  2 ... 15 13 12]\n",
      " [ 2  2  2 ... 16 15 13]\n",
      " [ 2  2  2 ... 18 16 14]]\n"
     ]
    }
   ],
   "source": [
    "print(img)"
   ]
  },
  {
   "cell_type": "code",
   "execution_count": 33,
   "id": "5bb688ac-03a7-4fe9-b18b-8147994a77b7",
   "metadata": {},
   "outputs": [],
   "source": [
    "import matplotlib.pyplot as plt"
   ]
  },
  {
   "cell_type": "code",
   "execution_count": 10,
   "id": "80349c06-fb4d-4a57-8e43-2439024fbe77",
   "metadata": {},
   "outputs": [],
   "source": [
    "import cv2\n",
    "im= cv2.imread(\"D:\\\\DataSet\\\\A._P._J._Abdul_Kalam.jpg\")\n",
    "t_lower = 50\n",
    "t_upper = 150 \n",
    "edge = cv2.Canny(im, t_lower, t_upper) \n",
    "  \n",
    "cv2.imshow('original', im) \n",
    "cv2.imshow('edge', edge) \n",
    "cv2.waitKey(0) \n",
    "cv2.destroyAllWindows()"
   ]
  },
  {
   "cell_type": "code",
   "execution_count": 5,
   "id": "78ceb3da-9dfb-48dc-ae8b-ea9ae750e244",
   "metadata": {},
   "outputs": [
    {
     "name": "stdout",
     "output_type": "stream",
     "text": [
      "0.983739837398374\n",
      "0.9907407407407407\n",
      "3.161073825503356\n",
      "3.2014388489208634\n"
     ]
    }
   ],
   "source": [
    "import cv2\n",
    "a= cv2.imread(\"D:\\\\DataSet\\\\logo.jpg\")\n",
    "\n",
    "imgGry = cv2.cvtColor(a, cv2.COLOR_BGR2GRAY)\n",
    "\n",
    "ret , thrash = cv2.threshold(imgGry, 25 , 200, cv2.THRESH_BINARY)\n",
    "# print(ret,thrash)\n",
    "contours , hierarchy = cv2.findContours(thrash, cv2.RETR_TREE, cv2.CHAIN_APPROX_SIMPLE)\n",
    "# print(contours)\n",
    "for contour in contours:\n",
    "    approx = cv2.approxPolyDP(contour, 0.01* cv2.arcLength(contour, True), True)\n",
    "    cv2.drawContours(a, [approx], 0, (0, 0, 0), 5)\n",
    "    x = approx.ravel()[0]\n",
    "    y = approx.ravel()[1] - 5\n",
    "    if len(approx) == 3:\n",
    "        cv2.putText( a, \"Triangle\", (x, y), cv2.FONT_HERSHEY_SCRIPT_SIMPLEX, .95, (0, 0, 0) )\n",
    "    # elif len(approx) == 4 :\n",
    "        x, y , w, h = cv2.boundingRect(approx)\n",
    "        aspectRatio = float(w)/h\n",
    "        print(aspectRatio)\n",
    "        if aspectRatio >= 0.95 and aspectRatio < 1.05:\n",
    "            cv2.putText(a, \"square\", (x, y), cv2.FONT_HERSHEY_SCRIPT_SIMPLEX, .95, (0, 0, 0))\n",
    "        else:\n",
    "            cv2.putText(a, \"rectangle\", (x, y), cv2.FONT_HERSHEY_SCRIPT_SIMPLEX, .95, (0, 0, 0))\n",
    "\n",
    "    elif len(approx) == 5 :\n",
    "        cv2.putText(a, \"pentagon\", (x, y), cv2.FONT_HERSHEY_SCRIPT_SIMPLEX, .95, (0, 0, 0))\n",
    "    elif len(approx) == 10 :\n",
    "        cv2.putText(a, \"star\", (x, y), cv2.FONT_HERSHEY_SCRIPT_SIMPLEX, .95, (0, 0, 0))\n",
    "    else:\n",
    "        cv2.putText(a, \"circle\", (x, y), cv2.FONT_HERSHEY_SCRIPT_SIMPLEX, .95, (0, 0, 0))\n",
    "\n",
    "\n",
    "cv2.imshow('a',a)\n",
    "cv2.waitKey(0) \n",
    "cv2.destroyAllWindows()"
   ]
  },
  {
   "cell_type": "code",
   "execution_count": 53,
   "id": "c7374e17-84d4-45c0-8ec5-4afdfe4f0334",
   "metadata": {},
   "outputs": [],
   "source": [
    "import cv2\n",
    "\n",
    "# Load the image\n",
    "a = cv2.imread(\"D:\\\\DataSet\\\\logo.jpg\")\n",
    "\n",
    "# Convert to grayscale\n",
    "imgGry = cv2.cvtColor(a, cv2.COLOR_BGR2GRAY)\n",
    "\n",
    "# Apply binary thresholding\n",
    "_, thrash = cv2.threshold(imgGry, 25, 255, cv2.THRESH_BINARY)\n",
    "\n",
    "# Find contours\n",
    "contours, _ = cv2.findContours(thrash, cv2.RETR_TREE, cv2.CHAIN_APPROX_SIMPLE)\n",
    "\n",
    "for contour in contours:\n",
    "    # Approximate the contour to a simpler shape\n",
    "    epsilon = 0.02 * cv2.arcLength(contour, True)\n",
    "    approx = cv2.approxPolyDP(contour, epsilon, True)\n",
    "    \n",
    "    # Get the bounding box of the shape\n",
    "    x, y, w, h = cv2.boundingRect(approx)\n",
    "    aspectRatio = float(w) / h\n",
    "    \n",
    "    # Draw the contour and label the shape\n",
    "    cv2.drawContours(a, [approx], -1, (0, 0, 0), 5)\n",
    "    \n",
    "    # Get the coordinates for placing the text\n",
    "    x = approx.ravel()[0]\n",
    "    y = approx.ravel()[1] - 10\n",
    "    \n",
    "    if len(approx) == 3:\n",
    "        cv2.putText(a, \"Triangle\", (x, y), cv2.FONT_HERSHEY_SIMPLEX, 0.5, (0, 0, 0), 2)\n",
    "    elif len(approx) == 4:\n",
    "        if 0.95 <= aspectRatio <= 1.05:\n",
    "            cv2.putText(a, \"Square\", (x, y), cv2.FONT_HERSHEY_SIMPLEX, 0.5, (0, 0, 0), 2)\n",
    "        else:\n",
    "            cv2.putText(a, \"Rectangle\", (x, y), cv2.FONT_HERSHEY_SIMPLEX, 0.5, (0, 0, 0), 2)\n",
    "    elif len(approx) == 5:\n",
    "        cv2.putText(a, \"Pentagon\", (x, y), cv2.FONT_HERSHEY_SIMPLEX, 0.5, (0, 0, 0), 2)\n",
    "    elif len(approx) == 10:\n",
    "        cv2.putText(a, \"Star\", (x, y), cv2.FONT_HERSHEY_SIMPLEX, 0.5, (0, 0, 0), 2)\n",
    "    else:\n",
    "        cv2.putText(a, \"Circle\", (x, y), cv2.FONT_HERSHEY_SIMPLEX, 0.5, (0, 0, 0), 2)\n",
    "\n",
    "# Display the output\n",
    "cv2.imshow('Detected Shapes', a)\n",
    "cv2.waitKey(0)\n",
    "cv2.destroyAllWindows()\n"
   ]
  },
  {
   "cell_type": "code",
   "execution_count": 52,
   "id": "72ba5a75-6457-405c-8e5c-a4ac280b55a4",
   "metadata": {},
   "outputs": [
    {
     "name": "stdout",
     "output_type": "stream",
     "text": [
      "Number of contours found: 1\n"
     ]
    }
   ],
   "source": [
    "import cv2\n",
    "import numpy as np\n",
    "\n",
    "# Load the image\n",
    "image_path = \"D:\\\\DataSet\\\\logo.jpg\"\n",
    "a = cv2.imread(image_path)\n",
    "\n",
    "# Check if the image is loaded correctly\n",
    "if a is None:\n",
    "    raise FileNotFoundError(f\"Image not found at the path: {image_path}\")\n",
    "\n",
    "# Convert to grayscale\n",
    "imgGry = cv2.cvtColor(a, cv2.COLOR_BGR2GRAY)\n",
    "\n",
    "# Apply binary thresholding\n",
    "_, thrash = cv2.threshold(imgGry, 25, 255, cv2.THRESH_BINARY)\n",
    "\n",
    "# Optional: Apply Gaussian Blur to reduce noise\n",
    "thrash = cv2.GaussianBlur(thrash, (5, 5), 0)\n",
    "\n",
    "# Display the thresholded image for debugging\n",
    "cv2.imshow('Thresholded Image', thrash)\n",
    "cv2.waitKey(0)\n",
    "cv2.destroyAllWindows()\n",
    "\n",
    "# Find contours\n",
    "contours, _ = cv2.findContours(thrash, cv2.RETR_EXTERNAL, cv2.CHAIN_APPROX_SIMPLE)\n",
    "\n",
    "# Check the number of contours found\n",
    "print(f\"Number of contours found: {len(contours)}\")\n",
    "\n",
    "# Create a blank image to draw contours\n",
    "contour_image = a.copy()\n",
    "cv2.drawContours(contour_image, contours, -1, (0, 255, 0), 3)\n",
    "\n",
    "# Display the contours for debugging\n",
    "cv2.imshow('Contours', contour_image)\n",
    "cv2.waitKey(0)\n",
    "cv2.destroyAllWindows()\n",
    "\n",
    "# Create a blank image for final output\n",
    "output_image = a.copy()\n",
    "\n",
    "# Define a minimum contour area to avoid noise\n",
    "min_contour_area = 500  # Adjust this value based on your specific image\n",
    "\n",
    "for contour in contours:\n",
    "    # Compute the contour area and ignore small areas\n",
    "    if cv2.contourArea(contour) < min_contour_area:\n",
    "        continue\n",
    "    \n",
    "    # Approximate the contour to a simpler shape\n",
    "    epsilon = 0.02 * cv2.arcLength(contour, True)\n",
    "    approx = cv2.approxPolyDP(contour, epsilon, True)\n",
    "    \n",
    "    # Get the bounding box of the shape\n",
    "    x, y, w, h = cv2.boundingRect(approx)\n",
    "    aspectRatio = float(w) / h\n",
    "    \n",
    "    # Draw the contour on the output image\n",
    "    cv2.drawContours(output_image, [approx], -1, (0, 0, 0), 5)\n",
    "    \n",
    "    # Get the coordinates for placing the text\n",
    "    x = approx.ravel()[0]\n",
    "    y = approx.ravel()[1] - 10\n",
    "    \n",
    "    # Determine the shape and add a label\n",
    "    if len(approx) == 3:\n",
    "        cv2.putText(output_image, \"Triangle\", (x, y), cv2.FONT_HERSHEY_SIMPLEX, 0.5, (0, 0, 0), 2)\n",
    "    elif len(approx) == 4:\n",
    "        if 0.95 <= aspectRatio <= 1.05:\n",
    "            cv2.putText(output_image, \"Square\", (x, y), cv2.FONT_HERSHEY_SIMPLEX, 0.5, (0, 0, 0), 2)\n",
    "        else:\n",
    "            cv2.putText(output_image, \"Rectangle\", (x, y), cv2.FONT_HERSHEY_SIMPLEX, 0.5, (0, 0, 0), 2)\n",
    "    elif len(approx) == 5:\n",
    "        cv2.putText(output_image, \"Pentagon\", (x, y), cv2.FONT_HERSHEY_SIMPLEX, 0.5, (0, 0, 0), 2)\n",
    "    elif len(approx) == 10:\n",
    "        cv2.putText(output_image, \"Star\", (x, y), cv2.FONT_HERSHEY_SIMPLEX, 0.5, (0, 0, 0), 2)\n",
    "    else:\n",
    "        cv2.putText(output_image, \"Circle\", (x, y), cv2.FONT_HERSHEY_SIMPLEX, 0.5, (0, 0, 0), 2)\n",
    "\n",
    "# Display the output image with detected shapes\n",
    "cv2.imshow('Detected Shapes', output_image)\n",
    "cv2.waitKey(0)\n",
    "cv2.destroyAllWindows()\n"
   ]
  },
  {
   "cell_type": "code",
   "execution_count": null,
   "id": "c776c9ef-d0cb-4277-89d5-160a7b3672dd",
   "metadata": {},
   "outputs": [],
   "source": []
  }
 ],
 "metadata": {
  "kernelspec": {
   "display_name": "Python 3 (ipykernel)",
   "language": "python",
   "name": "python3"
  },
  "language_info": {
   "codemirror_mode": {
    "name": "ipython",
    "version": 3
   },
   "file_extension": ".py",
   "mimetype": "text/x-python",
   "name": "python",
   "nbconvert_exporter": "python",
   "pygments_lexer": "ipython3",
   "version": "3.11.7"
  }
 },
 "nbformat": 4,
 "nbformat_minor": 5
}
